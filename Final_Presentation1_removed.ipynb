{
 "cells": [
  {
   "cell_type": "markdown",
   "id": "04ae6d1b",
   "metadata": {},
   "source": [
    "## _GROUP 1: How has the American diet changed over the past 50 years? Does it seem like it's a positive change?_"
   ]
  },
  {
   "cell_type": "markdown",
   "id": "b3ccf7f6",
   "metadata": {},
   "source": [
    "<div class=\"alert alert-block alert-info\">\n",
    "<b> I. EDA + CLEANING DATA\n",
    "</div>"
   ]
  },
  {
   "cell_type": "code",
   "execution_count": 2,
   "id": "cd34b3dc",
   "metadata": {},
   "outputs": [],
   "source": [
    "import glob\n",
    "import pandas as pd\n",
    "import matplotlib.pyplot as plt\n",
    "import plotly.express as px\n",
    "import seaborn as sns\n",
    "import plotly.graph_objects as go\n",
    "import plotly.io as pio\n",
    "pio.renderers.default = 'svg'"
   ]
  },
  {
   "cell_type": "code",
   "execution_count": 45,
   "id": "a08e39ea",
   "metadata": {
    "scrolled": true
   },
   "outputs": [
    {
     "name": "stdout",
     "output_type": "stream",
     "text": [
      "['fruitloss.csv', 'heartdisease_stroke.csv', 'perfect_diet_converted.csv', 'adult_obesityUS.csv', 'calories.csv', 'data.csv', 'population.csv', 'losscategory.csv', 'mc_donalds.csv', 'fruitvegloss.csv']\n"
     ]
    }
   ],
   "source": [
    "# read datasets\n",
    "file_list = glob.glob('*.csv')\n",
    "print(file_list)\n",
    "for f in file_list:\n",
    "    df = pd.read_csv(f, encoding='ISO-8859-1', low_memory=False)\n",
    "    var_name = f[:-4]\n",
    "    exec(var_name + '=df')"
   ]
  },
  {
   "cell_type": "markdown",
   "id": "bbe81de6",
   "metadata": {},
   "source": [
    "_**Calories Dataset**_"
   ]
  },
  {
   "cell_type": "code",
   "execution_count": 46,
   "id": "573d05fe",
   "metadata": {},
   "outputs": [],
   "source": [
    "#skip 1st row make 2nd row column names\n",
    "calories.columns = calories.iloc[0]\n",
    "#drop first 4 blank rows and all row below valid df\n",
    "calories = calories.iloc[4:52]\n",
    "#drop blank cols\n",
    "calories = calories.dropna(axis=1, how='all')\n",
    "#temporarily replace NAs with 0\n",
    "calories = calories.fillna(0)\n",
    "#change Year 2000* to 2000\n",
    "calories.replace({'Year': {'2000*': '2000'}}, inplace=True)\n",
    "#convert obj to int\n",
    "calories = calories.astype(int)\n",
    "#calculate % to show in hover data\n",
    "y_cols = list(set(calories.columns)-set(['Year','Total'])-set(col for col in calories.columns if col.endswith('_%')))\n",
    "for col in y_cols:\n",
    "    calories[col+'_%']= (calories[col] / calories['Total']) * 100\n",
    "    calories[col+'_%'] = calories[col+'_%'].round(decimals=1)"
   ]
  },
  {
   "cell_type": "markdown",
   "id": "e2bedf27",
   "metadata": {},
   "source": [
    "_**Food Loss Dataset**_"
   ]
  },
  {
   "cell_type": "code",
   "execution_count": 47,
   "id": "e693a531",
   "metadata": {},
   "outputs": [],
   "source": [
    "losscategory.rename(columns = {'ï»¿category':'category'}, inplace = True)\n",
    "fruitvegloss.rename(columns = {'ï»¿category':'category'}, inplace = True)"
   ]
  },
  {
   "cell_type": "markdown",
   "id": "cdc464ca",
   "metadata": {},
   "source": [
    "_**Fastfood and Heartstroke Dataset**_"
   ]
  },
  {
   "cell_type": "code",
   "execution_count": 48,
   "id": "6cabb5c1",
   "metadata": {},
   "outputs": [],
   "source": [
    "#Clean the datasets\n",
    "heartdisease_stroke = heartdisease_stroke.drop(columns=['LocationID','LocationAbbr','GeographicLevel','DataSource','Class','Data_Value','Data_Value_Unit','Data_Value_Type','Data_Value_Footnote_Symbol','Data_Value_Footnote','Confidence_limit_Low','Confidence_limit_High','TopicID'])\n",
    "heartdisease_stroke = heartdisease_stroke.rename(columns={'LocationDesc': 'City', 'X_long': 'Longitude','Y_lat':'Latitude'})\n",
    "mc_donalds = mc_donalds.drop(columns=['Store Name','Phone'])\n",
    "#Count the number of occasions grouped by City\n",
    "city_health = heartdisease_stroke['City'].value_counts(ascending=False)\n",
    "city_mcdonalds = mc_donalds['City'].value_counts(ascending=False)\n",
    "#Extract the index value\n",
    "index_ = list(city_health.index.values)\n",
    "index_ = list(city_mcdonalds.index.values)\n",
    "\n",
    "#Convert the List to a DataFrame\n",
    "city_health_df = pd.DataFrame(list(zip(index_, city_health)),\n",
    "               columns =['City', 'Count'])\n",
    "city_mcdonalds_df = pd.DataFrame(list(zip(index_, city_mcdonalds)),\n",
    "               columns =['City', 'Count'])"
   ]
  },
  {
   "cell_type": "markdown",
   "id": "53ed64e8",
   "metadata": {},
   "source": [
    "_**Obesity Dataset**_"
   ]
  },
  {
   "cell_type": "code",
   "execution_count": 49,
   "id": "6f5e4592",
   "metadata": {},
   "outputs": [],
   "source": [
    "# list of countries\n",
    "countries = [\"United States\", \"Mexico\", \"Canada\", \"Australia\", \"United Kingdom\", \"Germany\", \"France\", \"Italy\", \"Japan\", \"Brazil\", \"Russia\", \"China\", \"India\", \"Indonesia\", \"South Africa\", \"South Korea\", \"Turkey\", \"Argentina\", \"Spain\", \"Netherlands\"]\n",
    "# create a subset dataframe using the list of countries\n",
    "df_subset = data[data['country'].isin(countries)].set_index('country')\n",
    "# select only the 'obesityRate' column\n",
    "df_obesity = df_subset[['obesityRate']]"
   ]
  },
  {
   "cell_type": "markdown",
   "id": "db8f9cc3",
   "metadata": {},
   "source": [
    "_**Ideal Diet Dataset**_"
   ]
  },
  {
   "cell_type": "code",
   "execution_count": 50,
   "id": "a76aac1d",
   "metadata": {},
   "outputs": [],
   "source": [
    "#dropping null values\n",
    "Perfect_diet = perfect_diet_converted.dropna()\n",
    "Perfect_diet = Perfect_diet.set_index(Perfect_diet.columns[0])"
   ]
  },
  {
   "cell_type": "markdown",
   "id": "4e0459ee",
   "metadata": {},
   "source": [
    "<div class=\"alert alert-block alert-info\">\n",
    "<b> II. CREATE CHARTS\n",
    "</div>"
   ]
  },
  {
   "cell_type": "code",
   "execution_count": 51,
   "id": "7437fa45",
   "metadata": {},
   "outputs": [],
   "source": [
    "# CHI\n",
    "def calories_chart():\n",
    "    fig = px.bar(calories[calories['Year']<=2010], x='Year', y=y_cols,\\\n",
    "                 title='<b>AMERICANS AVERAGE DAILY PER CAPITA CALORIE CONSUMPTION BREAKDOWN BY FOOD TYPE<b>',\\\n",
    "                 color_discrete_sequence=px.colors.qualitative.Safe,\\\n",
    "                 hover_data=[col for col in calories.columns if col.endswith('_%')])\\\n",
    "    .update_xaxes(tickangle=-90)\\\n",
    "    .update_yaxes(title_text='Calorie')\\\n",
    "    .update_layout(legend=dict(font=dict(size=11), yanchor='bottom', y=0.2, xanchor='right', x=-0.1),\\\n",
    "                   bargap=0.05)\\\n",
    "    .add_shape(type='line',x0=1970, y0=2000, x1=2010, y1=2000, line=dict(color='blue', width=1.2, dash='dot'))\\\n",
    "    .add_annotation(x=1977, y=2000, text='Recommended Daily Intake (women)', showarrow=True, arrowhead=2)\\\n",
    "    .add_shape(type='line',x0=1970, y0=2500, x1=2010, y1=2500, line=dict(color='blue', width=1.2, dash='dot'))\\\n",
    "    .add_annotation(x=1990, y=2500, text='Recommended Daily Intake (men)', showarrow=True, arrowhead=2)\n",
    "    return fig"
   ]
  },
  {
   "cell_type": "code",
   "execution_count": 52,
   "id": "0fb6bdf5",
   "metadata": {},
   "outputs": [],
   "source": [
    "# NIKKI\n",
    "def loss_chart(data):\n",
    "    df=data\n",
    "    category = data['category'].unique()\n",
    "    fig, ax = plt.subplots(1, figsize=(6,6))\n",
    "    for i in category:\n",
    "        cal = data[data['category'] == i]\n",
    "        plt.plot(cal.year, cal.value, marker='o', markersize=5)\n",
    "        plt.text(cal.year.values[0]+0.02, cal.value.values[0], i)\n",
    "        plt.text(cal.year.values[1]-0.02, cal.value.values[1], i, ha='right')\n",
    "        yticks = plt.yticks()[0]\n",
    "    plt.xlim(1965.5,2015.5)\n",
    "    plt.xticks([1970, 2010])\n",
    "    return"
   ]
  },
  {
   "cell_type": "code",
   "execution_count": 53,
   "id": "875b7835",
   "metadata": {},
   "outputs": [],
   "source": [
    "# LILY\n",
    "def map_chart(data):\n",
    "    color_scale = [(0, 'orange'), (1,'red')]\n",
    "    fig = px.scatter_mapbox(data, \n",
    "                            lat=\"Latitude\", \n",
    "                            lon=\"Longitude\", \n",
    "                            hover_name=\"City\", \n",
    "                            hover_data=[\"City\"],\n",
    "                            zoom=8, \n",
    "                            height=800,\n",
    "                            width=800)\n",
    "\n",
    "    fig.update_layout(mapbox_style=\"open-street-map\")\n",
    "    fig.update_layout(margin={\"r\":0,\"t\":0,\"l\":0,\"b\":0})\n",
    "    return fig\n",
    "\n",
    "def correl_chart():\n",
    "    population.plot.scatter(x='Heart_Disease_Count_per_Capita', y='Mc_Count_per_Capita',rot=0, figsize=(7,5), fontsize=12)\n",
    "    plt.title(\"Heart Disease and McDonalds Correlations\")\n",
    "    plt.xlabel(\"Heart_Disease_Count_per_Capita\")\n",
    "    plt.ylabel(\"Mc_Count_per_Capita\")\n",
    "    return"
   ]
  },
  {
   "cell_type": "code",
   "execution_count": 54,
   "id": "6a7cfd7a",
   "metadata": {},
   "outputs": [],
   "source": [
    "# VIKRANT\n",
    "def obesity_chart():\n",
    "    plt.plot(adult_obesityUS[\"Year\"], adult_obesityUS[\"BMI\"], marker=\"o\")\n",
    "    # Add title and labels for the X and Y axis\n",
    "    plt.title(\"Share of American adults that are overweight or obese\")\n",
    "    plt.xlabel(\"Year\")\n",
    "    plt.ylabel(\"Prevalence of overweight among adults\")\n",
    "    # Set the lower limit of the y-axis to 0 and upper limit to 75\n",
    "    plt.ylim(bottom=0, top=75)\n",
    "    plt.xlim(left=1970,right=2020)\n",
    "    return\n",
    "\n",
    "def obesity_gdp_chart():\n",
    "    df_obesity = data[data['country'].isin(countries)].set_index('country')\n",
    "    ninty_percentile = data['obesityRate'].quantile(0.9)\n",
    "    plt.figure(figsize=(12, 6))\n",
    "    sns.scatterplot(data=df_obesity, x=df_obesity.index, y='obesityRate', alpha=0.7, s=100)\n",
    "    plt.axhline(ninty_percentile, color='red', linestyle='--', label='90th percentile')\n",
    "    plt.xticks(rotation=90)\n",
    "    plt.title(\"Obesity Rate of 20 Countries with high GDP\", fontsize=20, fontweight='bold')\n",
    "    plt.xlabel(\"Country\", fontsize=15)\n",
    "    plt.ylabel(\"% of obese adults\", fontsize=15)\n",
    "    plt.legend(fontsize=15)\n",
    "    sns.despine()\n",
    "    return"
   ]
  },
  {
   "cell_type": "code",
   "execution_count": 55,
   "id": "c0d221bc",
   "metadata": {},
   "outputs": [],
   "source": [
    "# LUIS\n",
    "def perfect_diet_chart():\n",
    "    group_names = ['Vegetables \\n (cup)', 'Fruits \\n (cup)', 'Grains \\n (oz)', 'Dairy \\n (cup)', 'Protein \\n (oz)']\n",
    "\n",
    "    # Data for chart\n",
    "    data_1970 = Perfect_diet['1970'].head() #dropping oils\n",
    "    data_2010 = Perfect_diet['2010'].head() #dropping oils\n",
    "    data_difference = data_2010 - data_1970\n",
    "\n",
    "    # Data for line\n",
    "    optimal_data = Perfect_diet['Daily Amount of Food From Each Group (converted)'].head() #dropping oils\n",
    "\n",
    "    # Plot the stacked bar chart\n",
    "    fig, ax = plt.subplots()\n",
    "    ax.bar(group_names, data_1970, label='1970 Consumption', color='lightblue', edgecolor='black')\n",
    "    ax.bar(group_names, data_difference, bottom=data_1970, label='2010 Consumption', color='darkblue', edgecolor='black')\n",
    "\n",
    "    # Plot the line chart on top of the stacked bar chart\n",
    "    ax.plot(group_names, optimal_data, color='red', linewidth=2, label='Optimal Levels', linestyle = '--',)\n",
    "\n",
    "    # Add labels and legend\n",
    "    ax.set_xlabel('Food Groups')\n",
    "    ax.set_ylabel('Cups or Ounces per day')\n",
    "    ax.set_title('HOW THE AMERICAN DIET HAS CHANGED BETWEEN 1970 vs. 2010 AND HOW DOES IT COMPARE TO OPTIMAL LEVELS')\n",
    "    ax.legend()\n",
    "    \n",
    "    #Annotations\n",
    "    ax.annotate('2.5', xy=(0, 2.5), xytext=(0, 3.5),\n",
    "                arrowprops=dict(facecolor='red', shrink=0.01),\n",
    "                )\n",
    "    ax.annotate('2.0', xy=(1, 2), xytext=(1, 3),\n",
    "                arrowprops=dict(facecolor='red', shrink=0.01),\n",
    "                )\n",
    "    ax.annotate('6.0', xy=(2, 6), xytext=(2, 4),\n",
    "                arrowprops=dict(facecolor='red', shrink=0.01),\n",
    "                )\n",
    "    ax.annotate('3.0', xy=(3, 3), xytext=(3, 4),\n",
    "                arrowprops=dict(facecolor='red', shrink=0.01),\n",
    "                )\n",
    "    ax.annotate('4.43', xy=(4, 4.43), xytext=(4, 5.43),\n",
    "                arrowprops=dict(facecolor='red', shrink=0.01),\n",
    "                )\n",
    "    # Show the plot\n",
    "    plt.show()\n",
    "    return"
   ]
  },
  {
   "cell_type": "markdown",
   "id": "b4728314",
   "metadata": {},
   "source": [
    "<div class=\"alert alert-block alert-info\">\n",
    "<b> III. SHOW CHARTS\n",
    "</div>"
   ]
  },
  {
   "cell_type": "code",
   "execution_count": 56,
   "id": "fbb680ff",
   "metadata": {},
   "outputs": [
    {
     "data": {
      "application/vnd.plotly.v1+json": {
       "config": {
        "plotlyServerURL": "https://plot.ly"
       },
       "data": [
        {
         "alignmentgroup": "True",
         "customdata": [
          [
           24.8,
           6.6,
           16.2,
           20,
           3.5,
           16.8,
           12.2
          ],
          [
           25.1,
           6.5,
           16.3,
           19.7,
           3.6,
           16.7,
           12.2
          ],
          [
           25,
           6.5,
           16.5,
           19.4,
           3.4,
           17.2,
           12.1
          ],
          [
           23.8,
           6.5,
           16.6,
           20.1,
           3.5,
           17.4,
           12.1
          ],
          [
           24.8,
           6.3,
           16.2,
           20,
           3.6,
           17.2,
           11.9
          ],
          [
           24.4,
           6.5,
           15.7,
           20.5,
           3.8,
           17.3,
           11.9
          ],
          [
           24.6,
           6.3,
           16,
           20.5,
           3.7,
           17.5,
           11.5
          ],
          [
           24.7,
           6.4,
           16.5,
           20.1,
           3.8,
           17,
           11.6
          ],
          [
           24.3,
           6.1,
           16.3,
           20.5,
           3.8,
           17.5,
           11.5
          ],
          [
           24,
           6.2,
           16.4,
           20.6,
           3.7,
           17.8,
           11.3
          ],
          [
           23.8,
           6.1,
           16.1,
           21,
           4,
           17.9,
           11.2
          ],
          [
           24.1,
           6.1,
           16.1,
           21,
           3.8,
           17.8,
           11.1
          ],
          [
           23.8,
           6.2,
           15.8,
           21,
           3.9,
           17.9,
           11.3
          ],
          [
           23.8,
           6.2,
           15.7,
           20.7,
           4.2,
           18.3,
           11.2
          ],
          [
           23.6,
           6.1,
           15.8,
           20.8,
           3.9,
           18.6,
           11.2
          ],
          [
           23.2,
           6,
           15.7,
           21.3,
           3.8,
           19,
           11
          ],
          [
           22.8,
           6,
           15.4,
           21.7,
           3.9,
           19.1,
           10.9
          ],
          [
           22.4,
           5.9,
           15.7,
           22.5,
           4,
           18.7,
           10.9
          ],
          [
           22.4,
           5.8,
           15.7,
           22.8,
           3.9,
           18.8,
           10.6
          ],
          [
           22.4,
           6,
           15.8,
           23,
           4,
           18.2,
           10.6
          ],
          [
           21.9,
           5.9,
           16.1,
           23.7,
           3.8,
           18,
           10.5
          ],
          [
           21.8,
           6.2,
           16,
           23.5,
           3.8,
           18.2,
           10.4
          ],
          [
           21.8,
           6.1,
           16.1,
           23.5,
           3.9,
           18.4,
           10.3
          ],
          [
           21.3,
           6.1,
           16.1,
           23.7,
           3.9,
           18.9,
           9.9
          ],
          [
           21.4,
           6.1,
           16.4,
           23.8,
           3.9,
           18.4,
           10
          ],
          [
           21.4,
           6.1,
           16.8,
           23.7,
           3.8,
           18.2,
           10
          ],
          [
           21.2,
           6.2,
           16.8,
           24.5,
           3.9,
           17.6,
           9.9
          ],
          [
           21.1,
           6.1,
           17.1,
           24.4,
           3.9,
           17.7,
           9.8
          ],
          [
           21.5,
           5.9,
           17.2,
           24.1,
           3.9,
           17.6,
           9.7
          ],
          [
           21.8,
           5.9,
           17.1,
           23.7,
           4,
           18,
           9.6
          ],
          [
           20.9,
           5.7,
           16.2,
           23.3,
           3.7,
           21,
           9.3
          ],
          [
           20.8,
           5.7,
           16.1,
           22.9,
           3.6,
           21.5,
           9.3
          ],
          [
           21.2,
           5.5,
           15.9,
           22.3,
           3.5,
           22.4,
           9.2
          ],
          [
           21.3,
           5.7,
           15.4,
           22.4,
           3.6,
           22.4,
           9.2
          ],
          [
           21.6,
           5.6,
           15.4,
           22.2,
           3.6,
           22.3,
           9.3
          ],
          [
           21.4,
           5.4,
           15.5,
           22.4,
           3.5,
           22.5,
           9.3
          ],
          [
           21.5,
           5.4,
           15.2,
           22.7,
           3.5,
           22.4,
           9.3
          ],
          [
           21.4,
           5.4,
           14.7,
           23,
           3.5,
           22.8,
           9.3
          ],
          [
           21,
           5.2,
           14.9,
           23,
           3.4,
           23.4,
           9.2
          ],
          [
           21.3,
           5.1,
           14.7,
           23.5,
           3.4,
           22.3,
           9.6
          ],
          [
           21,
           5.2,
           14.7,
           23.2,
           3.4,
           23,
           9.4
          ]
         ],
         "hovertemplate": "variable=Meat, eggs, and nuts<br>Year=%{x}<br>value=%{y}<br>Meat, eggs, and nuts_%=%{customdata[0]}<br>Vegetables_%=%{customdata[1]}<br>Sugar and sweeteners (Added)_%=%{customdata[2]}<br>Flour and cereal products_%=%{customdata[3]}<br>Fruit_%=%{customdata[4]}<br>Added fats and oils and dairy fats_%=%{customdata[5]}<br>Dairy_%=%{customdata[6]}<extra></extra>",
         "legendgroup": "Meat, eggs, and nuts",
         "marker": {
          "color": "rgb(136, 204, 238)",
          "pattern": {
           "shape": ""
          }
         },
         "name": "Meat, eggs, and nuts",
         "offsetgroup": "Meat, eggs, and nuts",
         "orientation": "v",
         "showlegend": true,
         "textposition": "auto",
         "type": "bar",
         "x": [
          1970,
          1971,
          1972,
          1973,
          1974,
          1975,
          1976,
          1977,
          1978,
          1979,
          1980,
          1981,
          1982,
          1983,
          1984,
          1985,
          1986,
          1987,
          1988,
          1989,
          1990,
          1991,
          1992,
          1993,
          1994,
          1995,
          1996,
          1997,
          1998,
          1999,
          2000,
          2001,
          2002,
          2003,
          2004,
          2005,
          2006,
          2007,
          2008,
          2009,
          2010
         ],
         "xaxis": "x",
         "y": [
          509,
          516,
          515,
          486,
          503,
          494,
          516,
          512,
          506,
          501,
          496,
          501,
          495,
          505,
          509,
          518,
          515,
          511,
          517,
          508,
          501,
          504,
          512,
          509,
          514,
          512,
          509,
          508,
          521,
          538,
          534,
          530,
          546,
          547,
          554,
          546,
          550,
          548,
          534,
          527,
          526
         ],
         "yaxis": "y"
        },
        {
         "alignmentgroup": "True",
         "customdata": [
          [
           24.8,
           6.6,
           16.2,
           20,
           3.5,
           16.8,
           12.2
          ],
          [
           25.1,
           6.5,
           16.3,
           19.7,
           3.6,
           16.7,
           12.2
          ],
          [
           25,
           6.5,
           16.5,
           19.4,
           3.4,
           17.2,
           12.1
          ],
          [
           23.8,
           6.5,
           16.6,
           20.1,
           3.5,
           17.4,
           12.1
          ],
          [
           24.8,
           6.3,
           16.2,
           20,
           3.6,
           17.2,
           11.9
          ],
          [
           24.4,
           6.5,
           15.7,
           20.5,
           3.8,
           17.3,
           11.9
          ],
          [
           24.6,
           6.3,
           16,
           20.5,
           3.7,
           17.5,
           11.5
          ],
          [
           24.7,
           6.4,
           16.5,
           20.1,
           3.8,
           17,
           11.6
          ],
          [
           24.3,
           6.1,
           16.3,
           20.5,
           3.8,
           17.5,
           11.5
          ],
          [
           24,
           6.2,
           16.4,
           20.6,
           3.7,
           17.8,
           11.3
          ],
          [
           23.8,
           6.1,
           16.1,
           21,
           4,
           17.9,
           11.2
          ],
          [
           24.1,
           6.1,
           16.1,
           21,
           3.8,
           17.8,
           11.1
          ],
          [
           23.8,
           6.2,
           15.8,
           21,
           3.9,
           17.9,
           11.3
          ],
          [
           23.8,
           6.2,
           15.7,
           20.7,
           4.2,
           18.3,
           11.2
          ],
          [
           23.6,
           6.1,
           15.8,
           20.8,
           3.9,
           18.6,
           11.2
          ],
          [
           23.2,
           6,
           15.7,
           21.3,
           3.8,
           19,
           11
          ],
          [
           22.8,
           6,
           15.4,
           21.7,
           3.9,
           19.1,
           10.9
          ],
          [
           22.4,
           5.9,
           15.7,
           22.5,
           4,
           18.7,
           10.9
          ],
          [
           22.4,
           5.8,
           15.7,
           22.8,
           3.9,
           18.8,
           10.6
          ],
          [
           22.4,
           6,
           15.8,
           23,
           4,
           18.2,
           10.6
          ],
          [
           21.9,
           5.9,
           16.1,
           23.7,
           3.8,
           18,
           10.5
          ],
          [
           21.8,
           6.2,
           16,
           23.5,
           3.8,
           18.2,
           10.4
          ],
          [
           21.8,
           6.1,
           16.1,
           23.5,
           3.9,
           18.4,
           10.3
          ],
          [
           21.3,
           6.1,
           16.1,
           23.7,
           3.9,
           18.9,
           9.9
          ],
          [
           21.4,
           6.1,
           16.4,
           23.8,
           3.9,
           18.4,
           10
          ],
          [
           21.4,
           6.1,
           16.8,
           23.7,
           3.8,
           18.2,
           10
          ],
          [
           21.2,
           6.2,
           16.8,
           24.5,
           3.9,
           17.6,
           9.9
          ],
          [
           21.1,
           6.1,
           17.1,
           24.4,
           3.9,
           17.7,
           9.8
          ],
          [
           21.5,
           5.9,
           17.2,
           24.1,
           3.9,
           17.6,
           9.7
          ],
          [
           21.8,
           5.9,
           17.1,
           23.7,
           4,
           18,
           9.6
          ],
          [
           20.9,
           5.7,
           16.2,
           23.3,
           3.7,
           21,
           9.3
          ],
          [
           20.8,
           5.7,
           16.1,
           22.9,
           3.6,
           21.5,
           9.3
          ],
          [
           21.2,
           5.5,
           15.9,
           22.3,
           3.5,
           22.4,
           9.2
          ],
          [
           21.3,
           5.7,
           15.4,
           22.4,
           3.6,
           22.4,
           9.2
          ],
          [
           21.6,
           5.6,
           15.4,
           22.2,
           3.6,
           22.3,
           9.3
          ],
          [
           21.4,
           5.4,
           15.5,
           22.4,
           3.5,
           22.5,
           9.3
          ],
          [
           21.5,
           5.4,
           15.2,
           22.7,
           3.5,
           22.4,
           9.3
          ],
          [
           21.4,
           5.4,
           14.7,
           23,
           3.5,
           22.8,
           9.3
          ],
          [
           21,
           5.2,
           14.9,
           23,
           3.4,
           23.4,
           9.2
          ],
          [
           21.3,
           5.1,
           14.7,
           23.5,
           3.4,
           22.3,
           9.6
          ],
          [
           21,
           5.2,
           14.7,
           23.2,
           3.4,
           23,
           9.4
          ]
         ],
         "hovertemplate": "variable=Vegetables<br>Year=%{x}<br>value=%{y}<br>Meat, eggs, and nuts_%=%{customdata[0]}<br>Vegetables_%=%{customdata[1]}<br>Sugar and sweeteners (Added)_%=%{customdata[2]}<br>Flour and cereal products_%=%{customdata[3]}<br>Fruit_%=%{customdata[4]}<br>Added fats and oils and dairy fats_%=%{customdata[5]}<br>Dairy_%=%{customdata[6]}<extra></extra>",
         "legendgroup": "Vegetables",
         "marker": {
          "color": "rgb(204, 102, 119)",
          "pattern": {
           "shape": ""
          }
         },
         "name": "Vegetables",
         "offsetgroup": "Vegetables",
         "orientation": "v",
         "showlegend": true,
         "textposition": "auto",
         "type": "bar",
         "x": [
          1970,
          1971,
          1972,
          1973,
          1974,
          1975,
          1976,
          1977,
          1978,
          1979,
          1980,
          1981,
          1982,
          1983,
          1984,
          1985,
          1986,
          1987,
          1988,
          1989,
          1990,
          1991,
          1992,
          1993,
          1994,
          1995,
          1996,
          1997,
          1998,
          1999,
          2000,
          2001,
          2002,
          2003,
          2004,
          2005,
          2006,
          2007,
          2008,
          2009,
          2010
         ],
         "xaxis": "x",
         "y": [
          135,
          133,
          133,
          133,
          128,
          132,
          132,
          132,
          127,
          130,
          127,
          126,
          129,
          131,
          131,
          134,
          136,
          134,
          135,
          136,
          136,
          143,
          142,
          146,
          146,
          146,
          150,
          146,
          143,
          146,
          146,
          146,
          141,
          146,
          143,
          137,
          139,
          138,
          131,
          126,
          130
         ],
         "yaxis": "y"
        },
        {
         "alignmentgroup": "True",
         "customdata": [
          [
           24.8,
           6.6,
           16.2,
           20,
           3.5,
           16.8,
           12.2
          ],
          [
           25.1,
           6.5,
           16.3,
           19.7,
           3.6,
           16.7,
           12.2
          ],
          [
           25,
           6.5,
           16.5,
           19.4,
           3.4,
           17.2,
           12.1
          ],
          [
           23.8,
           6.5,
           16.6,
           20.1,
           3.5,
           17.4,
           12.1
          ],
          [
           24.8,
           6.3,
           16.2,
           20,
           3.6,
           17.2,
           11.9
          ],
          [
           24.4,
           6.5,
           15.7,
           20.5,
           3.8,
           17.3,
           11.9
          ],
          [
           24.6,
           6.3,
           16,
           20.5,
           3.7,
           17.5,
           11.5
          ],
          [
           24.7,
           6.4,
           16.5,
           20.1,
           3.8,
           17,
           11.6
          ],
          [
           24.3,
           6.1,
           16.3,
           20.5,
           3.8,
           17.5,
           11.5
          ],
          [
           24,
           6.2,
           16.4,
           20.6,
           3.7,
           17.8,
           11.3
          ],
          [
           23.8,
           6.1,
           16.1,
           21,
           4,
           17.9,
           11.2
          ],
          [
           24.1,
           6.1,
           16.1,
           21,
           3.8,
           17.8,
           11.1
          ],
          [
           23.8,
           6.2,
           15.8,
           21,
           3.9,
           17.9,
           11.3
          ],
          [
           23.8,
           6.2,
           15.7,
           20.7,
           4.2,
           18.3,
           11.2
          ],
          [
           23.6,
           6.1,
           15.8,
           20.8,
           3.9,
           18.6,
           11.2
          ],
          [
           23.2,
           6,
           15.7,
           21.3,
           3.8,
           19,
           11
          ],
          [
           22.8,
           6,
           15.4,
           21.7,
           3.9,
           19.1,
           10.9
          ],
          [
           22.4,
           5.9,
           15.7,
           22.5,
           4,
           18.7,
           10.9
          ],
          [
           22.4,
           5.8,
           15.7,
           22.8,
           3.9,
           18.8,
           10.6
          ],
          [
           22.4,
           6,
           15.8,
           23,
           4,
           18.2,
           10.6
          ],
          [
           21.9,
           5.9,
           16.1,
           23.7,
           3.8,
           18,
           10.5
          ],
          [
           21.8,
           6.2,
           16,
           23.5,
           3.8,
           18.2,
           10.4
          ],
          [
           21.8,
           6.1,
           16.1,
           23.5,
           3.9,
           18.4,
           10.3
          ],
          [
           21.3,
           6.1,
           16.1,
           23.7,
           3.9,
           18.9,
           9.9
          ],
          [
           21.4,
           6.1,
           16.4,
           23.8,
           3.9,
           18.4,
           10
          ],
          [
           21.4,
           6.1,
           16.8,
           23.7,
           3.8,
           18.2,
           10
          ],
          [
           21.2,
           6.2,
           16.8,
           24.5,
           3.9,
           17.6,
           9.9
          ],
          [
           21.1,
           6.1,
           17.1,
           24.4,
           3.9,
           17.7,
           9.8
          ],
          [
           21.5,
           5.9,
           17.2,
           24.1,
           3.9,
           17.6,
           9.7
          ],
          [
           21.8,
           5.9,
           17.1,
           23.7,
           4,
           18,
           9.6
          ],
          [
           20.9,
           5.7,
           16.2,
           23.3,
           3.7,
           21,
           9.3
          ],
          [
           20.8,
           5.7,
           16.1,
           22.9,
           3.6,
           21.5,
           9.3
          ],
          [
           21.2,
           5.5,
           15.9,
           22.3,
           3.5,
           22.4,
           9.2
          ],
          [
           21.3,
           5.7,
           15.4,
           22.4,
           3.6,
           22.4,
           9.2
          ],
          [
           21.6,
           5.6,
           15.4,
           22.2,
           3.6,
           22.3,
           9.3
          ],
          [
           21.4,
           5.4,
           15.5,
           22.4,
           3.5,
           22.5,
           9.3
          ],
          [
           21.5,
           5.4,
           15.2,
           22.7,
           3.5,
           22.4,
           9.3
          ],
          [
           21.4,
           5.4,
           14.7,
           23,
           3.5,
           22.8,
           9.3
          ],
          [
           21,
           5.2,
           14.9,
           23,
           3.4,
           23.4,
           9.2
          ],
          [
           21.3,
           5.1,
           14.7,
           23.5,
           3.4,
           22.3,
           9.6
          ],
          [
           21,
           5.2,
           14.7,
           23.2,
           3.4,
           23,
           9.4
          ]
         ],
         "hovertemplate": "variable=Sugar and sweeteners (Added)<br>Year=%{x}<br>value=%{y}<br>Meat, eggs, and nuts_%=%{customdata[0]}<br>Vegetables_%=%{customdata[1]}<br>Sugar and sweeteners (Added)_%=%{customdata[2]}<br>Flour and cereal products_%=%{customdata[3]}<br>Fruit_%=%{customdata[4]}<br>Added fats and oils and dairy fats_%=%{customdata[5]}<br>Dairy_%=%{customdata[6]}<extra></extra>",
         "legendgroup": "Sugar and sweeteners (Added)",
         "marker": {
          "color": "rgb(221, 204, 119)",
          "pattern": {
           "shape": ""
          }
         },
         "name": "Sugar and sweeteners (Added)",
         "offsetgroup": "Sugar and sweeteners (Added)",
         "orientation": "v",
         "showlegend": true,
         "textposition": "auto",
         "type": "bar",
         "x": [
          1970,
          1971,
          1972,
          1973,
          1974,
          1975,
          1976,
          1977,
          1978,
          1979,
          1980,
          1981,
          1982,
          1983,
          1984,
          1985,
          1986,
          1987,
          1988,
          1989,
          1990,
          1991,
          1992,
          1993,
          1994,
          1995,
          1996,
          1997,
          1998,
          1999,
          2000,
          2001,
          2002,
          2003,
          2004,
          2005,
          2006,
          2007,
          2008,
          2009,
          2010
         ],
         "xaxis": "x",
         "y": [
          333,
          335,
          339,
          340,
          329,
          318,
          335,
          342,
          339,
          342,
          335,
          334,
          328,
          333,
          340,
          352,
          347,
          359,
          363,
          358,
          369,
          370,
          378,
          386,
          394,
          401,
          403,
          413,
          416,
          423,
          415,
          410,
          408,
          394,
          395,
          396,
          387,
          377,
          378,
          363,
          367
         ],
         "yaxis": "y"
        },
        {
         "alignmentgroup": "True",
         "customdata": [
          [
           24.8,
           6.6,
           16.2,
           20,
           3.5,
           16.8,
           12.2
          ],
          [
           25.1,
           6.5,
           16.3,
           19.7,
           3.6,
           16.7,
           12.2
          ],
          [
           25,
           6.5,
           16.5,
           19.4,
           3.4,
           17.2,
           12.1
          ],
          [
           23.8,
           6.5,
           16.6,
           20.1,
           3.5,
           17.4,
           12.1
          ],
          [
           24.8,
           6.3,
           16.2,
           20,
           3.6,
           17.2,
           11.9
          ],
          [
           24.4,
           6.5,
           15.7,
           20.5,
           3.8,
           17.3,
           11.9
          ],
          [
           24.6,
           6.3,
           16,
           20.5,
           3.7,
           17.5,
           11.5
          ],
          [
           24.7,
           6.4,
           16.5,
           20.1,
           3.8,
           17,
           11.6
          ],
          [
           24.3,
           6.1,
           16.3,
           20.5,
           3.8,
           17.5,
           11.5
          ],
          [
           24,
           6.2,
           16.4,
           20.6,
           3.7,
           17.8,
           11.3
          ],
          [
           23.8,
           6.1,
           16.1,
           21,
           4,
           17.9,
           11.2
          ],
          [
           24.1,
           6.1,
           16.1,
           21,
           3.8,
           17.8,
           11.1
          ],
          [
           23.8,
           6.2,
           15.8,
           21,
           3.9,
           17.9,
           11.3
          ],
          [
           23.8,
           6.2,
           15.7,
           20.7,
           4.2,
           18.3,
           11.2
          ],
          [
           23.6,
           6.1,
           15.8,
           20.8,
           3.9,
           18.6,
           11.2
          ],
          [
           23.2,
           6,
           15.7,
           21.3,
           3.8,
           19,
           11
          ],
          [
           22.8,
           6,
           15.4,
           21.7,
           3.9,
           19.1,
           10.9
          ],
          [
           22.4,
           5.9,
           15.7,
           22.5,
           4,
           18.7,
           10.9
          ],
          [
           22.4,
           5.8,
           15.7,
           22.8,
           3.9,
           18.8,
           10.6
          ],
          [
           22.4,
           6,
           15.8,
           23,
           4,
           18.2,
           10.6
          ],
          [
           21.9,
           5.9,
           16.1,
           23.7,
           3.8,
           18,
           10.5
          ],
          [
           21.8,
           6.2,
           16,
           23.5,
           3.8,
           18.2,
           10.4
          ],
          [
           21.8,
           6.1,
           16.1,
           23.5,
           3.9,
           18.4,
           10.3
          ],
          [
           21.3,
           6.1,
           16.1,
           23.7,
           3.9,
           18.9,
           9.9
          ],
          [
           21.4,
           6.1,
           16.4,
           23.8,
           3.9,
           18.4,
           10
          ],
          [
           21.4,
           6.1,
           16.8,
           23.7,
           3.8,
           18.2,
           10
          ],
          [
           21.2,
           6.2,
           16.8,
           24.5,
           3.9,
           17.6,
           9.9
          ],
          [
           21.1,
           6.1,
           17.1,
           24.4,
           3.9,
           17.7,
           9.8
          ],
          [
           21.5,
           5.9,
           17.2,
           24.1,
           3.9,
           17.6,
           9.7
          ],
          [
           21.8,
           5.9,
           17.1,
           23.7,
           4,
           18,
           9.6
          ],
          [
           20.9,
           5.7,
           16.2,
           23.3,
           3.7,
           21,
           9.3
          ],
          [
           20.8,
           5.7,
           16.1,
           22.9,
           3.6,
           21.5,
           9.3
          ],
          [
           21.2,
           5.5,
           15.9,
           22.3,
           3.5,
           22.4,
           9.2
          ],
          [
           21.3,
           5.7,
           15.4,
           22.4,
           3.6,
           22.4,
           9.2
          ],
          [
           21.6,
           5.6,
           15.4,
           22.2,
           3.6,
           22.3,
           9.3
          ],
          [
           21.4,
           5.4,
           15.5,
           22.4,
           3.5,
           22.5,
           9.3
          ],
          [
           21.5,
           5.4,
           15.2,
           22.7,
           3.5,
           22.4,
           9.3
          ],
          [
           21.4,
           5.4,
           14.7,
           23,
           3.5,
           22.8,
           9.3
          ],
          [
           21,
           5.2,
           14.9,
           23,
           3.4,
           23.4,
           9.2
          ],
          [
           21.3,
           5.1,
           14.7,
           23.5,
           3.4,
           22.3,
           9.6
          ],
          [
           21,
           5.2,
           14.7,
           23.2,
           3.4,
           23,
           9.4
          ]
         ],
         "hovertemplate": "variable=Flour and cereal products<br>Year=%{x}<br>value=%{y}<br>Meat, eggs, and nuts_%=%{customdata[0]}<br>Vegetables_%=%{customdata[1]}<br>Sugar and sweeteners (Added)_%=%{customdata[2]}<br>Flour and cereal products_%=%{customdata[3]}<br>Fruit_%=%{customdata[4]}<br>Added fats and oils and dairy fats_%=%{customdata[5]}<br>Dairy_%=%{customdata[6]}<extra></extra>",
         "legendgroup": "Flour and cereal products",
         "marker": {
          "color": "rgb(17, 119, 51)",
          "pattern": {
           "shape": ""
          }
         },
         "name": "Flour and cereal products",
         "offsetgroup": "Flour and cereal products",
         "orientation": "v",
         "showlegend": true,
         "textposition": "auto",
         "type": "bar",
         "x": [
          1970,
          1971,
          1972,
          1973,
          1974,
          1975,
          1976,
          1977,
          1978,
          1979,
          1980,
          1981,
          1982,
          1983,
          1984,
          1985,
          1986,
          1987,
          1988,
          1989,
          1990,
          1991,
          1992,
          1993,
          1994,
          1995,
          1996,
          1997,
          1998,
          1999,
          2000,
          2001,
          2002,
          2003,
          2004,
          2005,
          2006,
          2007,
          2008,
          2009,
          2010
         ],
         "xaxis": "x",
         "y": [
          410,
          404,
          399,
          411,
          406,
          416,
          430,
          417,
          427,
          431,
          437,
          437,
          436,
          438,
          448,
          476,
          490,
          513,
          526,
          521,
          541,
          543,
          551,
          567,
          571,
          567,
          588,
          589,
          582,
          586,
          596,
          584,
          573,
          575,
          570,
          571,
          580,
          589,
          586,
          580,
          581
         ],
         "yaxis": "y"
        },
        {
         "alignmentgroup": "True",
         "customdata": [
          [
           24.8,
           6.6,
           16.2,
           20,
           3.5,
           16.8,
           12.2
          ],
          [
           25.1,
           6.5,
           16.3,
           19.7,
           3.6,
           16.7,
           12.2
          ],
          [
           25,
           6.5,
           16.5,
           19.4,
           3.4,
           17.2,
           12.1
          ],
          [
           23.8,
           6.5,
           16.6,
           20.1,
           3.5,
           17.4,
           12.1
          ],
          [
           24.8,
           6.3,
           16.2,
           20,
           3.6,
           17.2,
           11.9
          ],
          [
           24.4,
           6.5,
           15.7,
           20.5,
           3.8,
           17.3,
           11.9
          ],
          [
           24.6,
           6.3,
           16,
           20.5,
           3.7,
           17.5,
           11.5
          ],
          [
           24.7,
           6.4,
           16.5,
           20.1,
           3.8,
           17,
           11.6
          ],
          [
           24.3,
           6.1,
           16.3,
           20.5,
           3.8,
           17.5,
           11.5
          ],
          [
           24,
           6.2,
           16.4,
           20.6,
           3.7,
           17.8,
           11.3
          ],
          [
           23.8,
           6.1,
           16.1,
           21,
           4,
           17.9,
           11.2
          ],
          [
           24.1,
           6.1,
           16.1,
           21,
           3.8,
           17.8,
           11.1
          ],
          [
           23.8,
           6.2,
           15.8,
           21,
           3.9,
           17.9,
           11.3
          ],
          [
           23.8,
           6.2,
           15.7,
           20.7,
           4.2,
           18.3,
           11.2
          ],
          [
           23.6,
           6.1,
           15.8,
           20.8,
           3.9,
           18.6,
           11.2
          ],
          [
           23.2,
           6,
           15.7,
           21.3,
           3.8,
           19,
           11
          ],
          [
           22.8,
           6,
           15.4,
           21.7,
           3.9,
           19.1,
           10.9
          ],
          [
           22.4,
           5.9,
           15.7,
           22.5,
           4,
           18.7,
           10.9
          ],
          [
           22.4,
           5.8,
           15.7,
           22.8,
           3.9,
           18.8,
           10.6
          ],
          [
           22.4,
           6,
           15.8,
           23,
           4,
           18.2,
           10.6
          ],
          [
           21.9,
           5.9,
           16.1,
           23.7,
           3.8,
           18,
           10.5
          ],
          [
           21.8,
           6.2,
           16,
           23.5,
           3.8,
           18.2,
           10.4
          ],
          [
           21.8,
           6.1,
           16.1,
           23.5,
           3.9,
           18.4,
           10.3
          ],
          [
           21.3,
           6.1,
           16.1,
           23.7,
           3.9,
           18.9,
           9.9
          ],
          [
           21.4,
           6.1,
           16.4,
           23.8,
           3.9,
           18.4,
           10
          ],
          [
           21.4,
           6.1,
           16.8,
           23.7,
           3.8,
           18.2,
           10
          ],
          [
           21.2,
           6.2,
           16.8,
           24.5,
           3.9,
           17.6,
           9.9
          ],
          [
           21.1,
           6.1,
           17.1,
           24.4,
           3.9,
           17.7,
           9.8
          ],
          [
           21.5,
           5.9,
           17.2,
           24.1,
           3.9,
           17.6,
           9.7
          ],
          [
           21.8,
           5.9,
           17.1,
           23.7,
           4,
           18,
           9.6
          ],
          [
           20.9,
           5.7,
           16.2,
           23.3,
           3.7,
           21,
           9.3
          ],
          [
           20.8,
           5.7,
           16.1,
           22.9,
           3.6,
           21.5,
           9.3
          ],
          [
           21.2,
           5.5,
           15.9,
           22.3,
           3.5,
           22.4,
           9.2
          ],
          [
           21.3,
           5.7,
           15.4,
           22.4,
           3.6,
           22.4,
           9.2
          ],
          [
           21.6,
           5.6,
           15.4,
           22.2,
           3.6,
           22.3,
           9.3
          ],
          [
           21.4,
           5.4,
           15.5,
           22.4,
           3.5,
           22.5,
           9.3
          ],
          [
           21.5,
           5.4,
           15.2,
           22.7,
           3.5,
           22.4,
           9.3
          ],
          [
           21.4,
           5.4,
           14.7,
           23,
           3.5,
           22.8,
           9.3
          ],
          [
           21,
           5.2,
           14.9,
           23,
           3.4,
           23.4,
           9.2
          ],
          [
           21.3,
           5.1,
           14.7,
           23.5,
           3.4,
           22.3,
           9.6
          ],
          [
           21,
           5.2,
           14.7,
           23.2,
           3.4,
           23,
           9.4
          ]
         ],
         "hovertemplate": "variable=Fruit<br>Year=%{x}<br>value=%{y}<br>Meat, eggs, and nuts_%=%{customdata[0]}<br>Vegetables_%=%{customdata[1]}<br>Sugar and sweeteners (Added)_%=%{customdata[2]}<br>Flour and cereal products_%=%{customdata[3]}<br>Fruit_%=%{customdata[4]}<br>Added fats and oils and dairy fats_%=%{customdata[5]}<br>Dairy_%=%{customdata[6]}<extra></extra>",
         "legendgroup": "Fruit",
         "marker": {
          "color": "rgb(51, 34, 136)",
          "pattern": {
           "shape": ""
          }
         },
         "name": "Fruit",
         "offsetgroup": "Fruit",
         "orientation": "v",
         "showlegend": true,
         "textposition": "auto",
         "type": "bar",
         "x": [
          1970,
          1971,
          1972,
          1973,
          1974,
          1975,
          1976,
          1977,
          1978,
          1979,
          1980,
          1981,
          1982,
          1983,
          1984,
          1985,
          1986,
          1987,
          1988,
          1989,
          1990,
          1991,
          1992,
          1993,
          1994,
          1995,
          1996,
          1997,
          1998,
          1999,
          2000,
          2001,
          2002,
          2003,
          2004,
          2005,
          2006,
          2007,
          2008,
          2009,
          2010
         ],
         "xaxis": "x",
         "y": [
          71,
          73,
          69,
          72,
          73,
          76,
          77,
          78,
          78,
          77,
          83,
          79,
          81,
          88,
          85,
          86,
          89,
          91,
          89,
          91,
          88,
          87,
          91,
          93,
          94,
          91,
          93,
          94,
          95,
          98,
          94,
          92,
          91,
          92,
          92,
          90,
          89,
          89,
          86,
          84,
          86
         ],
         "yaxis": "y"
        },
        {
         "alignmentgroup": "True",
         "customdata": [
          [
           24.8,
           6.6,
           16.2,
           20,
           3.5,
           16.8,
           12.2
          ],
          [
           25.1,
           6.5,
           16.3,
           19.7,
           3.6,
           16.7,
           12.2
          ],
          [
           25,
           6.5,
           16.5,
           19.4,
           3.4,
           17.2,
           12.1
          ],
          [
           23.8,
           6.5,
           16.6,
           20.1,
           3.5,
           17.4,
           12.1
          ],
          [
           24.8,
           6.3,
           16.2,
           20,
           3.6,
           17.2,
           11.9
          ],
          [
           24.4,
           6.5,
           15.7,
           20.5,
           3.8,
           17.3,
           11.9
          ],
          [
           24.6,
           6.3,
           16,
           20.5,
           3.7,
           17.5,
           11.5
          ],
          [
           24.7,
           6.4,
           16.5,
           20.1,
           3.8,
           17,
           11.6
          ],
          [
           24.3,
           6.1,
           16.3,
           20.5,
           3.8,
           17.5,
           11.5
          ],
          [
           24,
           6.2,
           16.4,
           20.6,
           3.7,
           17.8,
           11.3
          ],
          [
           23.8,
           6.1,
           16.1,
           21,
           4,
           17.9,
           11.2
          ],
          [
           24.1,
           6.1,
           16.1,
           21,
           3.8,
           17.8,
           11.1
          ],
          [
           23.8,
           6.2,
           15.8,
           21,
           3.9,
           17.9,
           11.3
          ],
          [
           23.8,
           6.2,
           15.7,
           20.7,
           4.2,
           18.3,
           11.2
          ],
          [
           23.6,
           6.1,
           15.8,
           20.8,
           3.9,
           18.6,
           11.2
          ],
          [
           23.2,
           6,
           15.7,
           21.3,
           3.8,
           19,
           11
          ],
          [
           22.8,
           6,
           15.4,
           21.7,
           3.9,
           19.1,
           10.9
          ],
          [
           22.4,
           5.9,
           15.7,
           22.5,
           4,
           18.7,
           10.9
          ],
          [
           22.4,
           5.8,
           15.7,
           22.8,
           3.9,
           18.8,
           10.6
          ],
          [
           22.4,
           6,
           15.8,
           23,
           4,
           18.2,
           10.6
          ],
          [
           21.9,
           5.9,
           16.1,
           23.7,
           3.8,
           18,
           10.5
          ],
          [
           21.8,
           6.2,
           16,
           23.5,
           3.8,
           18.2,
           10.4
          ],
          [
           21.8,
           6.1,
           16.1,
           23.5,
           3.9,
           18.4,
           10.3
          ],
          [
           21.3,
           6.1,
           16.1,
           23.7,
           3.9,
           18.9,
           9.9
          ],
          [
           21.4,
           6.1,
           16.4,
           23.8,
           3.9,
           18.4,
           10
          ],
          [
           21.4,
           6.1,
           16.8,
           23.7,
           3.8,
           18.2,
           10
          ],
          [
           21.2,
           6.2,
           16.8,
           24.5,
           3.9,
           17.6,
           9.9
          ],
          [
           21.1,
           6.1,
           17.1,
           24.4,
           3.9,
           17.7,
           9.8
          ],
          [
           21.5,
           5.9,
           17.2,
           24.1,
           3.9,
           17.6,
           9.7
          ],
          [
           21.8,
           5.9,
           17.1,
           23.7,
           4,
           18,
           9.6
          ],
          [
           20.9,
           5.7,
           16.2,
           23.3,
           3.7,
           21,
           9.3
          ],
          [
           20.8,
           5.7,
           16.1,
           22.9,
           3.6,
           21.5,
           9.3
          ],
          [
           21.2,
           5.5,
           15.9,
           22.3,
           3.5,
           22.4,
           9.2
          ],
          [
           21.3,
           5.7,
           15.4,
           22.4,
           3.6,
           22.4,
           9.2
          ],
          [
           21.6,
           5.6,
           15.4,
           22.2,
           3.6,
           22.3,
           9.3
          ],
          [
           21.4,
           5.4,
           15.5,
           22.4,
           3.5,
           22.5,
           9.3
          ],
          [
           21.5,
           5.4,
           15.2,
           22.7,
           3.5,
           22.4,
           9.3
          ],
          [
           21.4,
           5.4,
           14.7,
           23,
           3.5,
           22.8,
           9.3
          ],
          [
           21,
           5.2,
           14.9,
           23,
           3.4,
           23.4,
           9.2
          ],
          [
           21.3,
           5.1,
           14.7,
           23.5,
           3.4,
           22.3,
           9.6
          ],
          [
           21,
           5.2,
           14.7,
           23.2,
           3.4,
           23,
           9.4
          ]
         ],
         "hovertemplate": "variable=Added fats and oils and dairy fats<br>Year=%{x}<br>value=%{y}<br>Meat, eggs, and nuts_%=%{customdata[0]}<br>Vegetables_%=%{customdata[1]}<br>Sugar and sweeteners (Added)_%=%{customdata[2]}<br>Flour and cereal products_%=%{customdata[3]}<br>Fruit_%=%{customdata[4]}<br>Added fats and oils and dairy fats_%=%{customdata[5]}<br>Dairy_%=%{customdata[6]}<extra></extra>",
         "legendgroup": "Added fats and oils and dairy fats",
         "marker": {
          "color": "rgb(170, 68, 153)",
          "pattern": {
           "shape": ""
          }
         },
         "name": "Added fats and oils and dairy fats",
         "offsetgroup": "Added fats and oils and dairy fats",
         "orientation": "v",
         "showlegend": true,
         "textposition": "auto",
         "type": "bar",
         "x": [
          1970,
          1971,
          1972,
          1973,
          1974,
          1975,
          1976,
          1977,
          1978,
          1979,
          1980,
          1981,
          1982,
          1983,
          1984,
          1985,
          1986,
          1987,
          1988,
          1989,
          1990,
          1991,
          1992,
          1993,
          1994,
          1995,
          1996,
          1997,
          1998,
          1999,
          2000,
          2001,
          2002,
          2003,
          2004,
          2005,
          2006,
          2007,
          2008,
          2009,
          2010
         ],
         "xaxis": "x",
         "y": [
          346,
          342,
          353,
          357,
          349,
          351,
          367,
          353,
          364,
          372,
          372,
          370,
          372,
          387,
          402,
          424,
          431,
          427,
          433,
          413,
          411,
          419,
          433,
          453,
          443,
          434,
          424,
          427,
          425,
          444,
          537,
          548,
          577,
          575,
          573,
          573,
          571,
          584,
          594,
          551,
          575
         ],
         "yaxis": "y"
        },
        {
         "alignmentgroup": "True",
         "customdata": [
          [
           24.8,
           6.6,
           16.2,
           20,
           3.5,
           16.8,
           12.2
          ],
          [
           25.1,
           6.5,
           16.3,
           19.7,
           3.6,
           16.7,
           12.2
          ],
          [
           25,
           6.5,
           16.5,
           19.4,
           3.4,
           17.2,
           12.1
          ],
          [
           23.8,
           6.5,
           16.6,
           20.1,
           3.5,
           17.4,
           12.1
          ],
          [
           24.8,
           6.3,
           16.2,
           20,
           3.6,
           17.2,
           11.9
          ],
          [
           24.4,
           6.5,
           15.7,
           20.5,
           3.8,
           17.3,
           11.9
          ],
          [
           24.6,
           6.3,
           16,
           20.5,
           3.7,
           17.5,
           11.5
          ],
          [
           24.7,
           6.4,
           16.5,
           20.1,
           3.8,
           17,
           11.6
          ],
          [
           24.3,
           6.1,
           16.3,
           20.5,
           3.8,
           17.5,
           11.5
          ],
          [
           24,
           6.2,
           16.4,
           20.6,
           3.7,
           17.8,
           11.3
          ],
          [
           23.8,
           6.1,
           16.1,
           21,
           4,
           17.9,
           11.2
          ],
          [
           24.1,
           6.1,
           16.1,
           21,
           3.8,
           17.8,
           11.1
          ],
          [
           23.8,
           6.2,
           15.8,
           21,
           3.9,
           17.9,
           11.3
          ],
          [
           23.8,
           6.2,
           15.7,
           20.7,
           4.2,
           18.3,
           11.2
          ],
          [
           23.6,
           6.1,
           15.8,
           20.8,
           3.9,
           18.6,
           11.2
          ],
          [
           23.2,
           6,
           15.7,
           21.3,
           3.8,
           19,
           11
          ],
          [
           22.8,
           6,
           15.4,
           21.7,
           3.9,
           19.1,
           10.9
          ],
          [
           22.4,
           5.9,
           15.7,
           22.5,
           4,
           18.7,
           10.9
          ],
          [
           22.4,
           5.8,
           15.7,
           22.8,
           3.9,
           18.8,
           10.6
          ],
          [
           22.4,
           6,
           15.8,
           23,
           4,
           18.2,
           10.6
          ],
          [
           21.9,
           5.9,
           16.1,
           23.7,
           3.8,
           18,
           10.5
          ],
          [
           21.8,
           6.2,
           16,
           23.5,
           3.8,
           18.2,
           10.4
          ],
          [
           21.8,
           6.1,
           16.1,
           23.5,
           3.9,
           18.4,
           10.3
          ],
          [
           21.3,
           6.1,
           16.1,
           23.7,
           3.9,
           18.9,
           9.9
          ],
          [
           21.4,
           6.1,
           16.4,
           23.8,
           3.9,
           18.4,
           10
          ],
          [
           21.4,
           6.1,
           16.8,
           23.7,
           3.8,
           18.2,
           10
          ],
          [
           21.2,
           6.2,
           16.8,
           24.5,
           3.9,
           17.6,
           9.9
          ],
          [
           21.1,
           6.1,
           17.1,
           24.4,
           3.9,
           17.7,
           9.8
          ],
          [
           21.5,
           5.9,
           17.2,
           24.1,
           3.9,
           17.6,
           9.7
          ],
          [
           21.8,
           5.9,
           17.1,
           23.7,
           4,
           18,
           9.6
          ],
          [
           20.9,
           5.7,
           16.2,
           23.3,
           3.7,
           21,
           9.3
          ],
          [
           20.8,
           5.7,
           16.1,
           22.9,
           3.6,
           21.5,
           9.3
          ],
          [
           21.2,
           5.5,
           15.9,
           22.3,
           3.5,
           22.4,
           9.2
          ],
          [
           21.3,
           5.7,
           15.4,
           22.4,
           3.6,
           22.4,
           9.2
          ],
          [
           21.6,
           5.6,
           15.4,
           22.2,
           3.6,
           22.3,
           9.3
          ],
          [
           21.4,
           5.4,
           15.5,
           22.4,
           3.5,
           22.5,
           9.3
          ],
          [
           21.5,
           5.4,
           15.2,
           22.7,
           3.5,
           22.4,
           9.3
          ],
          [
           21.4,
           5.4,
           14.7,
           23,
           3.5,
           22.8,
           9.3
          ],
          [
           21,
           5.2,
           14.9,
           23,
           3.4,
           23.4,
           9.2
          ],
          [
           21.3,
           5.1,
           14.7,
           23.5,
           3.4,
           22.3,
           9.6
          ],
          [
           21,
           5.2,
           14.7,
           23.2,
           3.4,
           23,
           9.4
          ]
         ],
         "hovertemplate": "variable=Dairy<br>Year=%{x}<br>value=%{y}<br>Meat, eggs, and nuts_%=%{customdata[0]}<br>Vegetables_%=%{customdata[1]}<br>Sugar and sweeteners (Added)_%=%{customdata[2]}<br>Flour and cereal products_%=%{customdata[3]}<br>Fruit_%=%{customdata[4]}<br>Added fats and oils and dairy fats_%=%{customdata[5]}<br>Dairy_%=%{customdata[6]}<extra></extra>",
         "legendgroup": "Dairy",
         "marker": {
          "color": "rgb(68, 170, 153)",
          "pattern": {
           "shape": ""
          }
         },
         "name": "Dairy",
         "offsetgroup": "Dairy",
         "orientation": "v",
         "showlegend": true,
         "textposition": "auto",
         "type": "bar",
         "x": [
          1970,
          1971,
          1972,
          1973,
          1974,
          1975,
          1976,
          1977,
          1978,
          1979,
          1980,
          1981,
          1982,
          1983,
          1984,
          1985,
          1986,
          1987,
          1988,
          1989,
          1990,
          1991,
          1992,
          1993,
          1994,
          1995,
          1996,
          1997,
          1998,
          1999,
          2000,
          2001,
          2002,
          2003,
          2004,
          2005,
          2006,
          2007,
          2008,
          2009,
          2010
         ],
         "xaxis": "x",
         "y": [
          250,
          251,
          249,
          247,
          241,
          240,
          241,
          240,
          239,
          237,
          233,
          231,
          234,
          238,
          242,
          246,
          247,
          249,
          245,
          241,
          241,
          241,
          241,
          237,
          240,
          239,
          237,
          236,
          235,
          238,
          237,
          236,
          237,
          237,
          238,
          238,
          237,
          237,
          234,
          237,
          235
         ],
         "yaxis": "y"
        }
       ],
       "layout": {
        "annotations": [
         {
          "arrowhead": 2,
          "showarrow": true,
          "text": "Recommended Daily Intake (women)",
          "x": 1977,
          "y": 2000
         },
         {
          "arrowhead": 2,
          "showarrow": true,
          "text": "Recommended Daily Intake (men)",
          "x": 1990,
          "y": 2500
         }
        ],
        "bargap": 0.05,
        "barmode": "relative",
        "legend": {
         "font": {
          "size": 11
         },
         "title": {
          "text": "variable"
         },
         "tracegroupgap": 0,
         "x": -0.1,
         "xanchor": "right",
         "y": 0.2,
         "yanchor": "bottom"
        },
        "shapes": [
         {
          "line": {
           "color": "blue",
           "dash": "dot",
           "width": 1.2
          },
          "type": "line",
          "x0": 1970,
          "x1": 2010,
          "y0": 2000,
          "y1": 2000
         },
         {
          "line": {
           "color": "blue",
           "dash": "dot",
           "width": 1.2
          },
          "type": "line",
          "x0": 1970,
          "x1": 2010,
          "y0": 2500,
          "y1": 2500
         }
        ],
        "template": {
         "data": {
          "bar": [
           {
            "error_x": {
             "color": "#2a3f5f"
            },
            "error_y": {
             "color": "#2a3f5f"
            },
            "marker": {
             "line": {
              "color": "#E5ECF6",
              "width": 0.5
             },
             "pattern": {
              "fillmode": "overlay",
              "size": 10,
              "solidity": 0.2
             }
            },
            "type": "bar"
           }
          ],
          "barpolar": [
           {
            "marker": {
             "line": {
              "color": "#E5ECF6",
              "width": 0.5
             },
             "pattern": {
              "fillmode": "overlay",
              "size": 10,
              "solidity": 0.2
             }
            },
            "type": "barpolar"
           }
          ],
          "carpet": [
           {
            "aaxis": {
             "endlinecolor": "#2a3f5f",
             "gridcolor": "white",
             "linecolor": "white",
             "minorgridcolor": "white",
             "startlinecolor": "#2a3f5f"
            },
            "baxis": {
             "endlinecolor": "#2a3f5f",
             "gridcolor": "white",
             "linecolor": "white",
             "minorgridcolor": "white",
             "startlinecolor": "#2a3f5f"
            },
            "type": "carpet"
           }
          ],
          "choropleth": [
           {
            "colorbar": {
             "outlinewidth": 0,
             "ticks": ""
            },
            "type": "choropleth"
           }
          ],
          "contour": [
           {
            "colorbar": {
             "outlinewidth": 0,
             "ticks": ""
            },
            "colorscale": [
             [
              0,
              "#0d0887"
             ],
             [
              0.1111111111111111,
              "#46039f"
             ],
             [
              0.2222222222222222,
              "#7201a8"
             ],
             [
              0.3333333333333333,
              "#9c179e"
             ],
             [
              0.4444444444444444,
              "#bd3786"
             ],
             [
              0.5555555555555556,
              "#d8576b"
             ],
             [
              0.6666666666666666,
              "#ed7953"
             ],
             [
              0.7777777777777778,
              "#fb9f3a"
             ],
             [
              0.8888888888888888,
              "#fdca26"
             ],
             [
              1,
              "#f0f921"
             ]
            ],
            "type": "contour"
           }
          ],
          "contourcarpet": [
           {
            "colorbar": {
             "outlinewidth": 0,
             "ticks": ""
            },
            "type": "contourcarpet"
           }
          ],
          "heatmap": [
           {
            "colorbar": {
             "outlinewidth": 0,
             "ticks": ""
            },
            "colorscale": [
             [
              0,
              "#0d0887"
             ],
             [
              0.1111111111111111,
              "#46039f"
             ],
             [
              0.2222222222222222,
              "#7201a8"
             ],
             [
              0.3333333333333333,
              "#9c179e"
             ],
             [
              0.4444444444444444,
              "#bd3786"
             ],
             [
              0.5555555555555556,
              "#d8576b"
             ],
             [
              0.6666666666666666,
              "#ed7953"
             ],
             [
              0.7777777777777778,
              "#fb9f3a"
             ],
             [
              0.8888888888888888,
              "#fdca26"
             ],
             [
              1,
              "#f0f921"
             ]
            ],
            "type": "heatmap"
           }
          ],
          "heatmapgl": [
           {
            "colorbar": {
             "outlinewidth": 0,
             "ticks": ""
            },
            "colorscale": [
             [
              0,
              "#0d0887"
             ],
             [
              0.1111111111111111,
              "#46039f"
             ],
             [
              0.2222222222222222,
              "#7201a8"
             ],
             [
              0.3333333333333333,
              "#9c179e"
             ],
             [
              0.4444444444444444,
              "#bd3786"
             ],
             [
              0.5555555555555556,
              "#d8576b"
             ],
             [
              0.6666666666666666,
              "#ed7953"
             ],
             [
              0.7777777777777778,
              "#fb9f3a"
             ],
             [
              0.8888888888888888,
              "#fdca26"
             ],
             [
              1,
              "#f0f921"
             ]
            ],
            "type": "heatmapgl"
           }
          ],
          "histogram": [
           {
            "marker": {
             "pattern": {
              "fillmode": "overlay",
              "size": 10,
              "solidity": 0.2
             }
            },
            "type": "histogram"
           }
          ],
          "histogram2d": [
           {
            "colorbar": {
             "outlinewidth": 0,
             "ticks": ""
            },
            "colorscale": [
             [
              0,
              "#0d0887"
             ],
             [
              0.1111111111111111,
              "#46039f"
             ],
             [
              0.2222222222222222,
              "#7201a8"
             ],
             [
              0.3333333333333333,
              "#9c179e"
             ],
             [
              0.4444444444444444,
              "#bd3786"
             ],
             [
              0.5555555555555556,
              "#d8576b"
             ],
             [
              0.6666666666666666,
              "#ed7953"
             ],
             [
              0.7777777777777778,
              "#fb9f3a"
             ],
             [
              0.8888888888888888,
              "#fdca26"
             ],
             [
              1,
              "#f0f921"
             ]
            ],
            "type": "histogram2d"
           }
          ],
          "histogram2dcontour": [
           {
            "colorbar": {
             "outlinewidth": 0,
             "ticks": ""
            },
            "colorscale": [
             [
              0,
              "#0d0887"
             ],
             [
              0.1111111111111111,
              "#46039f"
             ],
             [
              0.2222222222222222,
              "#7201a8"
             ],
             [
              0.3333333333333333,
              "#9c179e"
             ],
             [
              0.4444444444444444,
              "#bd3786"
             ],
             [
              0.5555555555555556,
              "#d8576b"
             ],
             [
              0.6666666666666666,
              "#ed7953"
             ],
             [
              0.7777777777777778,
              "#fb9f3a"
             ],
             [
              0.8888888888888888,
              "#fdca26"
             ],
             [
              1,
              "#f0f921"
             ]
            ],
            "type": "histogram2dcontour"
           }
          ],
          "mesh3d": [
           {
            "colorbar": {
             "outlinewidth": 0,
             "ticks": ""
            },
            "type": "mesh3d"
           }
          ],
          "parcoords": [
           {
            "line": {
             "colorbar": {
              "outlinewidth": 0,
              "ticks": ""
             }
            },
            "type": "parcoords"
           }
          ],
          "pie": [
           {
            "automargin": true,
            "type": "pie"
           }
          ],
          "scatter": [
           {
            "fillpattern": {
             "fillmode": "overlay",
             "size": 10,
             "solidity": 0.2
            },
            "type": "scatter"
           }
          ],
          "scatter3d": [
           {
            "line": {
             "colorbar": {
              "outlinewidth": 0,
              "ticks": ""
             }
            },
            "marker": {
             "colorbar": {
              "outlinewidth": 0,
              "ticks": ""
             }
            },
            "type": "scatter3d"
           }
          ],
          "scattercarpet": [
           {
            "marker": {
             "colorbar": {
              "outlinewidth": 0,
              "ticks": ""
             }
            },
            "type": "scattercarpet"
           }
          ],
          "scattergeo": [
           {
            "marker": {
             "colorbar": {
              "outlinewidth": 0,
              "ticks": ""
             }
            },
            "type": "scattergeo"
           }
          ],
          "scattergl": [
           {
            "marker": {
             "colorbar": {
              "outlinewidth": 0,
              "ticks": ""
             }
            },
            "type": "scattergl"
           }
          ],
          "scattermapbox": [
           {
            "marker": {
             "colorbar": {
              "outlinewidth": 0,
              "ticks": ""
             }
            },
            "type": "scattermapbox"
           }
          ],
          "scatterpolar": [
           {
            "marker": {
             "colorbar": {
              "outlinewidth": 0,
              "ticks": ""
             }
            },
            "type": "scatterpolar"
           }
          ],
          "scatterpolargl": [
           {
            "marker": {
             "colorbar": {
              "outlinewidth": 0,
              "ticks": ""
             }
            },
            "type": "scatterpolargl"
           }
          ],
          "scatterternary": [
           {
            "marker": {
             "colorbar": {
              "outlinewidth": 0,
              "ticks": ""
             }
            },
            "type": "scatterternary"
           }
          ],
          "surface": [
           {
            "colorbar": {
             "outlinewidth": 0,
             "ticks": ""
            },
            "colorscale": [
             [
              0,
              "#0d0887"
             ],
             [
              0.1111111111111111,
              "#46039f"
             ],
             [
              0.2222222222222222,
              "#7201a8"
             ],
             [
              0.3333333333333333,
              "#9c179e"
             ],
             [
              0.4444444444444444,
              "#bd3786"
             ],
             [
              0.5555555555555556,
              "#d8576b"
             ],
             [
              0.6666666666666666,
              "#ed7953"
             ],
             [
              0.7777777777777778,
              "#fb9f3a"
             ],
             [
              0.8888888888888888,
              "#fdca26"
             ],
             [
              1,
              "#f0f921"
             ]
            ],
            "type": "surface"
           }
          ],
          "table": [
           {
            "cells": {
             "fill": {
              "color": "#EBF0F8"
             },
             "line": {
              "color": "white"
             }
            },
            "header": {
             "fill": {
              "color": "#C8D4E3"
             },
             "line": {
              "color": "white"
             }
            },
            "type": "table"
           }
          ]
         },
         "layout": {
          "annotationdefaults": {
           "arrowcolor": "#2a3f5f",
           "arrowhead": 0,
           "arrowwidth": 1
          },
          "autotypenumbers": "strict",
          "coloraxis": {
           "colorbar": {
            "outlinewidth": 0,
            "ticks": ""
           }
          },
          "colorscale": {
           "diverging": [
            [
             0,
             "#8e0152"
            ],
            [
             0.1,
             "#c51b7d"
            ],
            [
             0.2,
             "#de77ae"
            ],
            [
             0.3,
             "#f1b6da"
            ],
            [
             0.4,
             "#fde0ef"
            ],
            [
             0.5,
             "#f7f7f7"
            ],
            [
             0.6,
             "#e6f5d0"
            ],
            [
             0.7,
             "#b8e186"
            ],
            [
             0.8,
             "#7fbc41"
            ],
            [
             0.9,
             "#4d9221"
            ],
            [
             1,
             "#276419"
            ]
           ],
           "sequential": [
            [
             0,
             "#0d0887"
            ],
            [
             0.1111111111111111,
             "#46039f"
            ],
            [
             0.2222222222222222,
             "#7201a8"
            ],
            [
             0.3333333333333333,
             "#9c179e"
            ],
            [
             0.4444444444444444,
             "#bd3786"
            ],
            [
             0.5555555555555556,
             "#d8576b"
            ],
            [
             0.6666666666666666,
             "#ed7953"
            ],
            [
             0.7777777777777778,
             "#fb9f3a"
            ],
            [
             0.8888888888888888,
             "#fdca26"
            ],
            [
             1,
             "#f0f921"
            ]
           ],
           "sequentialminus": [
            [
             0,
             "#0d0887"
            ],
            [
             0.1111111111111111,
             "#46039f"
            ],
            [
             0.2222222222222222,
             "#7201a8"
            ],
            [
             0.3333333333333333,
             "#9c179e"
            ],
            [
             0.4444444444444444,
             "#bd3786"
            ],
            [
             0.5555555555555556,
             "#d8576b"
            ],
            [
             0.6666666666666666,
             "#ed7953"
            ],
            [
             0.7777777777777778,
             "#fb9f3a"
            ],
            [
             0.8888888888888888,
             "#fdca26"
            ],
            [
             1,
             "#f0f921"
            ]
           ]
          },
          "colorway": [
           "#636efa",
           "#EF553B",
           "#00cc96",
           "#ab63fa",
           "#FFA15A",
           "#19d3f3",
           "#FF6692",
           "#B6E880",
           "#FF97FF",
           "#FECB52"
          ],
          "font": {
           "color": "#2a3f5f"
          },
          "geo": {
           "bgcolor": "white",
           "lakecolor": "white",
           "landcolor": "#E5ECF6",
           "showlakes": true,
           "showland": true,
           "subunitcolor": "white"
          },
          "hoverlabel": {
           "align": "left"
          },
          "hovermode": "closest",
          "mapbox": {
           "style": "light"
          },
          "paper_bgcolor": "white",
          "plot_bgcolor": "#E5ECF6",
          "polar": {
           "angularaxis": {
            "gridcolor": "white",
            "linecolor": "white",
            "ticks": ""
           },
           "bgcolor": "#E5ECF6",
           "radialaxis": {
            "gridcolor": "white",
            "linecolor": "white",
            "ticks": ""
           }
          },
          "scene": {
           "xaxis": {
            "backgroundcolor": "#E5ECF6",
            "gridcolor": "white",
            "gridwidth": 2,
            "linecolor": "white",
            "showbackground": true,
            "ticks": "",
            "zerolinecolor": "white"
           },
           "yaxis": {
            "backgroundcolor": "#E5ECF6",
            "gridcolor": "white",
            "gridwidth": 2,
            "linecolor": "white",
            "showbackground": true,
            "ticks": "",
            "zerolinecolor": "white"
           },
           "zaxis": {
            "backgroundcolor": "#E5ECF6",
            "gridcolor": "white",
            "gridwidth": 2,
            "linecolor": "white",
            "showbackground": true,
            "ticks": "",
            "zerolinecolor": "white"
           }
          },
          "shapedefaults": {
           "line": {
            "color": "#2a3f5f"
           }
          },
          "ternary": {
           "aaxis": {
            "gridcolor": "white",
            "linecolor": "white",
            "ticks": ""
           },
           "baxis": {
            "gridcolor": "white",
            "linecolor": "white",
            "ticks": ""
           },
           "bgcolor": "#E5ECF6",
           "caxis": {
            "gridcolor": "white",
            "linecolor": "white",
            "ticks": ""
           }
          },
          "title": {
           "x": 0.05
          },
          "xaxis": {
           "automargin": true,
           "gridcolor": "white",
           "linecolor": "white",
           "ticks": "",
           "title": {
            "standoff": 15
           },
           "zerolinecolor": "white",
           "zerolinewidth": 2
          },
          "yaxis": {
           "automargin": true,
           "gridcolor": "white",
           "linecolor": "white",
           "ticks": "",
           "title": {
            "standoff": 15
           },
           "zerolinecolor": "white",
           "zerolinewidth": 2
          }
         }
        },
        "title": {
         "text": "<b>AMERICANS AVERAGE DAILY PER CAPITA CALORIE CONSUMPTION BREAKDOWN BY FOOD TYPE<b>"
        },
        "xaxis": {
         "anchor": "y",
         "domain": [
          0,
          1
         ],
         "tickangle": -90,
         "title": {
          "text": "Year"
         }
        },
        "yaxis": {
         "anchor": "x",
         "domain": [
          0,
          1
         ],
         "title": {
          "text": "Calorie"
         }
        }
       }
      },
      "text/html": [
       "<div>                            <div id=\"7a49fdfc-87db-4718-b6b6-e5035f861a8b\" class=\"plotly-graph-div\" style=\"height:525px; width:100%;\"></div>            <script type=\"text/javascript\">                require([\"plotly\"], function(Plotly) {                    window.PLOTLYENV=window.PLOTLYENV || {};                                    if (document.getElementById(\"7a49fdfc-87db-4718-b6b6-e5035f861a8b\")) {                    Plotly.newPlot(                        \"7a49fdfc-87db-4718-b6b6-e5035f861a8b\",                        [{\"alignmentgroup\":\"True\",\"customdata\":[[24.8,6.6,16.2,20.0,3.5,16.8,12.2],[25.1,6.5,16.3,19.7,3.6,16.7,12.2],[25.0,6.5,16.5,19.4,3.4,17.2,12.1],[23.8,6.5,16.6,20.1,3.5,17.4,12.1],[24.8,6.3,16.2,20.0,3.6,17.2,11.9],[24.4,6.5,15.7,20.5,3.8,17.3,11.9],[24.6,6.3,16.0,20.5,3.7,17.5,11.5],[24.7,6.4,16.5,20.1,3.8,17.0,11.6],[24.3,6.1,16.3,20.5,3.8,17.5,11.5],[24.0,6.2,16.4,20.6,3.7,17.8,11.3],[23.8,6.1,16.1,21.0,4.0,17.9,11.2],[24.1,6.1,16.1,21.0,3.8,17.8,11.1],[23.8,6.2,15.8,21.0,3.9,17.9,11.3],[23.8,6.2,15.7,20.7,4.2,18.3,11.2],[23.6,6.1,15.8,20.8,3.9,18.6,11.2],[23.2,6.0,15.7,21.3,3.8,19.0,11.0],[22.8,6.0,15.4,21.7,3.9,19.1,10.9],[22.4,5.9,15.7,22.5,4.0,18.7,10.9],[22.4,5.8,15.7,22.8,3.9,18.8,10.6],[22.4,6.0,15.8,23.0,4.0,18.2,10.6],[21.9,5.9,16.1,23.7,3.8,18.0,10.5],[21.8,6.2,16.0,23.5,3.8,18.2,10.4],[21.8,6.1,16.1,23.5,3.9,18.4,10.3],[21.3,6.1,16.1,23.7,3.9,18.9,9.9],[21.4,6.1,16.4,23.8,3.9,18.4,10.0],[21.4,6.1,16.8,23.7,3.8,18.2,10.0],[21.2,6.2,16.8,24.5,3.9,17.6,9.9],[21.1,6.1,17.1,24.4,3.9,17.7,9.8],[21.5,5.9,17.2,24.1,3.9,17.6,9.7],[21.8,5.9,17.1,23.7,4.0,18.0,9.6],[20.9,5.7,16.2,23.3,3.7,21.0,9.3],[20.8,5.7,16.1,22.9,3.6,21.5,9.3],[21.2,5.5,15.9,22.3,3.5,22.4,9.2],[21.3,5.7,15.4,22.4,3.6,22.4,9.2],[21.6,5.6,15.4,22.2,3.6,22.3,9.3],[21.4,5.4,15.5,22.4,3.5,22.5,9.3],[21.5,5.4,15.2,22.7,3.5,22.4,9.3],[21.4,5.4,14.7,23.0,3.5,22.8,9.3],[21.0,5.2,14.9,23.0,3.4,23.4,9.2],[21.3,5.1,14.7,23.5,3.4,22.3,9.6],[21.0,5.2,14.7,23.2,3.4,23.0,9.4]],\"hovertemplate\":\"variable=Meat, eggs, and nuts<br>Year=%{x}<br>value=%{y}<br>Meat, eggs, and nuts_%=%{customdata[0]}<br>Vegetables_%=%{customdata[1]}<br>Sugar and sweeteners (Added)_%=%{customdata[2]}<br>Flour and cereal products_%=%{customdata[3]}<br>Fruit_%=%{customdata[4]}<br>Added fats and oils and dairy fats_%=%{customdata[5]}<br>Dairy_%=%{customdata[6]}<extra></extra>\",\"legendgroup\":\"Meat, eggs, and nuts\",\"marker\":{\"color\":\"rgb(136, 204, 238)\",\"pattern\":{\"shape\":\"\"}},\"name\":\"Meat, eggs, and nuts\",\"offsetgroup\":\"Meat, eggs, and nuts\",\"orientation\":\"v\",\"showlegend\":true,\"textposition\":\"auto\",\"x\":[1970,1971,1972,1973,1974,1975,1976,1977,1978,1979,1980,1981,1982,1983,1984,1985,1986,1987,1988,1989,1990,1991,1992,1993,1994,1995,1996,1997,1998,1999,2000,2001,2002,2003,2004,2005,2006,2007,2008,2009,2010],\"xaxis\":\"x\",\"y\":[509,516,515,486,503,494,516,512,506,501,496,501,495,505,509,518,515,511,517,508,501,504,512,509,514,512,509,508,521,538,534,530,546,547,554,546,550,548,534,527,526],\"yaxis\":\"y\",\"type\":\"bar\"},{\"alignmentgroup\":\"True\",\"customdata\":[[24.8,6.6,16.2,20.0,3.5,16.8,12.2],[25.1,6.5,16.3,19.7,3.6,16.7,12.2],[25.0,6.5,16.5,19.4,3.4,17.2,12.1],[23.8,6.5,16.6,20.1,3.5,17.4,12.1],[24.8,6.3,16.2,20.0,3.6,17.2,11.9],[24.4,6.5,15.7,20.5,3.8,17.3,11.9],[24.6,6.3,16.0,20.5,3.7,17.5,11.5],[24.7,6.4,16.5,20.1,3.8,17.0,11.6],[24.3,6.1,16.3,20.5,3.8,17.5,11.5],[24.0,6.2,16.4,20.6,3.7,17.8,11.3],[23.8,6.1,16.1,21.0,4.0,17.9,11.2],[24.1,6.1,16.1,21.0,3.8,17.8,11.1],[23.8,6.2,15.8,21.0,3.9,17.9,11.3],[23.8,6.2,15.7,20.7,4.2,18.3,11.2],[23.6,6.1,15.8,20.8,3.9,18.6,11.2],[23.2,6.0,15.7,21.3,3.8,19.0,11.0],[22.8,6.0,15.4,21.7,3.9,19.1,10.9],[22.4,5.9,15.7,22.5,4.0,18.7,10.9],[22.4,5.8,15.7,22.8,3.9,18.8,10.6],[22.4,6.0,15.8,23.0,4.0,18.2,10.6],[21.9,5.9,16.1,23.7,3.8,18.0,10.5],[21.8,6.2,16.0,23.5,3.8,18.2,10.4],[21.8,6.1,16.1,23.5,3.9,18.4,10.3],[21.3,6.1,16.1,23.7,3.9,18.9,9.9],[21.4,6.1,16.4,23.8,3.9,18.4,10.0],[21.4,6.1,16.8,23.7,3.8,18.2,10.0],[21.2,6.2,16.8,24.5,3.9,17.6,9.9],[21.1,6.1,17.1,24.4,3.9,17.7,9.8],[21.5,5.9,17.2,24.1,3.9,17.6,9.7],[21.8,5.9,17.1,23.7,4.0,18.0,9.6],[20.9,5.7,16.2,23.3,3.7,21.0,9.3],[20.8,5.7,16.1,22.9,3.6,21.5,9.3],[21.2,5.5,15.9,22.3,3.5,22.4,9.2],[21.3,5.7,15.4,22.4,3.6,22.4,9.2],[21.6,5.6,15.4,22.2,3.6,22.3,9.3],[21.4,5.4,15.5,22.4,3.5,22.5,9.3],[21.5,5.4,15.2,22.7,3.5,22.4,9.3],[21.4,5.4,14.7,23.0,3.5,22.8,9.3],[21.0,5.2,14.9,23.0,3.4,23.4,9.2],[21.3,5.1,14.7,23.5,3.4,22.3,9.6],[21.0,5.2,14.7,23.2,3.4,23.0,9.4]],\"hovertemplate\":\"variable=Vegetables<br>Year=%{x}<br>value=%{y}<br>Meat, eggs, and nuts_%=%{customdata[0]}<br>Vegetables_%=%{customdata[1]}<br>Sugar and sweeteners (Added)_%=%{customdata[2]}<br>Flour and cereal products_%=%{customdata[3]}<br>Fruit_%=%{customdata[4]}<br>Added fats and oils and dairy fats_%=%{customdata[5]}<br>Dairy_%=%{customdata[6]}<extra></extra>\",\"legendgroup\":\"Vegetables\",\"marker\":{\"color\":\"rgb(204, 102, 119)\",\"pattern\":{\"shape\":\"\"}},\"name\":\"Vegetables\",\"offsetgroup\":\"Vegetables\",\"orientation\":\"v\",\"showlegend\":true,\"textposition\":\"auto\",\"x\":[1970,1971,1972,1973,1974,1975,1976,1977,1978,1979,1980,1981,1982,1983,1984,1985,1986,1987,1988,1989,1990,1991,1992,1993,1994,1995,1996,1997,1998,1999,2000,2001,2002,2003,2004,2005,2006,2007,2008,2009,2010],\"xaxis\":\"x\",\"y\":[135,133,133,133,128,132,132,132,127,130,127,126,129,131,131,134,136,134,135,136,136,143,142,146,146,146,150,146,143,146,146,146,141,146,143,137,139,138,131,126,130],\"yaxis\":\"y\",\"type\":\"bar\"},{\"alignmentgroup\":\"True\",\"customdata\":[[24.8,6.6,16.2,20.0,3.5,16.8,12.2],[25.1,6.5,16.3,19.7,3.6,16.7,12.2],[25.0,6.5,16.5,19.4,3.4,17.2,12.1],[23.8,6.5,16.6,20.1,3.5,17.4,12.1],[24.8,6.3,16.2,20.0,3.6,17.2,11.9],[24.4,6.5,15.7,20.5,3.8,17.3,11.9],[24.6,6.3,16.0,20.5,3.7,17.5,11.5],[24.7,6.4,16.5,20.1,3.8,17.0,11.6],[24.3,6.1,16.3,20.5,3.8,17.5,11.5],[24.0,6.2,16.4,20.6,3.7,17.8,11.3],[23.8,6.1,16.1,21.0,4.0,17.9,11.2],[24.1,6.1,16.1,21.0,3.8,17.8,11.1],[23.8,6.2,15.8,21.0,3.9,17.9,11.3],[23.8,6.2,15.7,20.7,4.2,18.3,11.2],[23.6,6.1,15.8,20.8,3.9,18.6,11.2],[23.2,6.0,15.7,21.3,3.8,19.0,11.0],[22.8,6.0,15.4,21.7,3.9,19.1,10.9],[22.4,5.9,15.7,22.5,4.0,18.7,10.9],[22.4,5.8,15.7,22.8,3.9,18.8,10.6],[22.4,6.0,15.8,23.0,4.0,18.2,10.6],[21.9,5.9,16.1,23.7,3.8,18.0,10.5],[21.8,6.2,16.0,23.5,3.8,18.2,10.4],[21.8,6.1,16.1,23.5,3.9,18.4,10.3],[21.3,6.1,16.1,23.7,3.9,18.9,9.9],[21.4,6.1,16.4,23.8,3.9,18.4,10.0],[21.4,6.1,16.8,23.7,3.8,18.2,10.0],[21.2,6.2,16.8,24.5,3.9,17.6,9.9],[21.1,6.1,17.1,24.4,3.9,17.7,9.8],[21.5,5.9,17.2,24.1,3.9,17.6,9.7],[21.8,5.9,17.1,23.7,4.0,18.0,9.6],[20.9,5.7,16.2,23.3,3.7,21.0,9.3],[20.8,5.7,16.1,22.9,3.6,21.5,9.3],[21.2,5.5,15.9,22.3,3.5,22.4,9.2],[21.3,5.7,15.4,22.4,3.6,22.4,9.2],[21.6,5.6,15.4,22.2,3.6,22.3,9.3],[21.4,5.4,15.5,22.4,3.5,22.5,9.3],[21.5,5.4,15.2,22.7,3.5,22.4,9.3],[21.4,5.4,14.7,23.0,3.5,22.8,9.3],[21.0,5.2,14.9,23.0,3.4,23.4,9.2],[21.3,5.1,14.7,23.5,3.4,22.3,9.6],[21.0,5.2,14.7,23.2,3.4,23.0,9.4]],\"hovertemplate\":\"variable=Sugar and sweeteners (Added)<br>Year=%{x}<br>value=%{y}<br>Meat, eggs, and nuts_%=%{customdata[0]}<br>Vegetables_%=%{customdata[1]}<br>Sugar and sweeteners (Added)_%=%{customdata[2]}<br>Flour and cereal products_%=%{customdata[3]}<br>Fruit_%=%{customdata[4]}<br>Added fats and oils and dairy fats_%=%{customdata[5]}<br>Dairy_%=%{customdata[6]}<extra></extra>\",\"legendgroup\":\"Sugar and sweeteners (Added)\",\"marker\":{\"color\":\"rgb(221, 204, 119)\",\"pattern\":{\"shape\":\"\"}},\"name\":\"Sugar and sweeteners (Added)\",\"offsetgroup\":\"Sugar and sweeteners (Added)\",\"orientation\":\"v\",\"showlegend\":true,\"textposition\":\"auto\",\"x\":[1970,1971,1972,1973,1974,1975,1976,1977,1978,1979,1980,1981,1982,1983,1984,1985,1986,1987,1988,1989,1990,1991,1992,1993,1994,1995,1996,1997,1998,1999,2000,2001,2002,2003,2004,2005,2006,2007,2008,2009,2010],\"xaxis\":\"x\",\"y\":[333,335,339,340,329,318,335,342,339,342,335,334,328,333,340,352,347,359,363,358,369,370,378,386,394,401,403,413,416,423,415,410,408,394,395,396,387,377,378,363,367],\"yaxis\":\"y\",\"type\":\"bar\"},{\"alignmentgroup\":\"True\",\"customdata\":[[24.8,6.6,16.2,20.0,3.5,16.8,12.2],[25.1,6.5,16.3,19.7,3.6,16.7,12.2],[25.0,6.5,16.5,19.4,3.4,17.2,12.1],[23.8,6.5,16.6,20.1,3.5,17.4,12.1],[24.8,6.3,16.2,20.0,3.6,17.2,11.9],[24.4,6.5,15.7,20.5,3.8,17.3,11.9],[24.6,6.3,16.0,20.5,3.7,17.5,11.5],[24.7,6.4,16.5,20.1,3.8,17.0,11.6],[24.3,6.1,16.3,20.5,3.8,17.5,11.5],[24.0,6.2,16.4,20.6,3.7,17.8,11.3],[23.8,6.1,16.1,21.0,4.0,17.9,11.2],[24.1,6.1,16.1,21.0,3.8,17.8,11.1],[23.8,6.2,15.8,21.0,3.9,17.9,11.3],[23.8,6.2,15.7,20.7,4.2,18.3,11.2],[23.6,6.1,15.8,20.8,3.9,18.6,11.2],[23.2,6.0,15.7,21.3,3.8,19.0,11.0],[22.8,6.0,15.4,21.7,3.9,19.1,10.9],[22.4,5.9,15.7,22.5,4.0,18.7,10.9],[22.4,5.8,15.7,22.8,3.9,18.8,10.6],[22.4,6.0,15.8,23.0,4.0,18.2,10.6],[21.9,5.9,16.1,23.7,3.8,18.0,10.5],[21.8,6.2,16.0,23.5,3.8,18.2,10.4],[21.8,6.1,16.1,23.5,3.9,18.4,10.3],[21.3,6.1,16.1,23.7,3.9,18.9,9.9],[21.4,6.1,16.4,23.8,3.9,18.4,10.0],[21.4,6.1,16.8,23.7,3.8,18.2,10.0],[21.2,6.2,16.8,24.5,3.9,17.6,9.9],[21.1,6.1,17.1,24.4,3.9,17.7,9.8],[21.5,5.9,17.2,24.1,3.9,17.6,9.7],[21.8,5.9,17.1,23.7,4.0,18.0,9.6],[20.9,5.7,16.2,23.3,3.7,21.0,9.3],[20.8,5.7,16.1,22.9,3.6,21.5,9.3],[21.2,5.5,15.9,22.3,3.5,22.4,9.2],[21.3,5.7,15.4,22.4,3.6,22.4,9.2],[21.6,5.6,15.4,22.2,3.6,22.3,9.3],[21.4,5.4,15.5,22.4,3.5,22.5,9.3],[21.5,5.4,15.2,22.7,3.5,22.4,9.3],[21.4,5.4,14.7,23.0,3.5,22.8,9.3],[21.0,5.2,14.9,23.0,3.4,23.4,9.2],[21.3,5.1,14.7,23.5,3.4,22.3,9.6],[21.0,5.2,14.7,23.2,3.4,23.0,9.4]],\"hovertemplate\":\"variable=Flour and cereal products<br>Year=%{x}<br>value=%{y}<br>Meat, eggs, and nuts_%=%{customdata[0]}<br>Vegetables_%=%{customdata[1]}<br>Sugar and sweeteners (Added)_%=%{customdata[2]}<br>Flour and cereal products_%=%{customdata[3]}<br>Fruit_%=%{customdata[4]}<br>Added fats and oils and dairy fats_%=%{customdata[5]}<br>Dairy_%=%{customdata[6]}<extra></extra>\",\"legendgroup\":\"Flour and cereal products\",\"marker\":{\"color\":\"rgb(17, 119, 51)\",\"pattern\":{\"shape\":\"\"}},\"name\":\"Flour and cereal products\",\"offsetgroup\":\"Flour and cereal products\",\"orientation\":\"v\",\"showlegend\":true,\"textposition\":\"auto\",\"x\":[1970,1971,1972,1973,1974,1975,1976,1977,1978,1979,1980,1981,1982,1983,1984,1985,1986,1987,1988,1989,1990,1991,1992,1993,1994,1995,1996,1997,1998,1999,2000,2001,2002,2003,2004,2005,2006,2007,2008,2009,2010],\"xaxis\":\"x\",\"y\":[410,404,399,411,406,416,430,417,427,431,437,437,436,438,448,476,490,513,526,521,541,543,551,567,571,567,588,589,582,586,596,584,573,575,570,571,580,589,586,580,581],\"yaxis\":\"y\",\"type\":\"bar\"},{\"alignmentgroup\":\"True\",\"customdata\":[[24.8,6.6,16.2,20.0,3.5,16.8,12.2],[25.1,6.5,16.3,19.7,3.6,16.7,12.2],[25.0,6.5,16.5,19.4,3.4,17.2,12.1],[23.8,6.5,16.6,20.1,3.5,17.4,12.1],[24.8,6.3,16.2,20.0,3.6,17.2,11.9],[24.4,6.5,15.7,20.5,3.8,17.3,11.9],[24.6,6.3,16.0,20.5,3.7,17.5,11.5],[24.7,6.4,16.5,20.1,3.8,17.0,11.6],[24.3,6.1,16.3,20.5,3.8,17.5,11.5],[24.0,6.2,16.4,20.6,3.7,17.8,11.3],[23.8,6.1,16.1,21.0,4.0,17.9,11.2],[24.1,6.1,16.1,21.0,3.8,17.8,11.1],[23.8,6.2,15.8,21.0,3.9,17.9,11.3],[23.8,6.2,15.7,20.7,4.2,18.3,11.2],[23.6,6.1,15.8,20.8,3.9,18.6,11.2],[23.2,6.0,15.7,21.3,3.8,19.0,11.0],[22.8,6.0,15.4,21.7,3.9,19.1,10.9],[22.4,5.9,15.7,22.5,4.0,18.7,10.9],[22.4,5.8,15.7,22.8,3.9,18.8,10.6],[22.4,6.0,15.8,23.0,4.0,18.2,10.6],[21.9,5.9,16.1,23.7,3.8,18.0,10.5],[21.8,6.2,16.0,23.5,3.8,18.2,10.4],[21.8,6.1,16.1,23.5,3.9,18.4,10.3],[21.3,6.1,16.1,23.7,3.9,18.9,9.9],[21.4,6.1,16.4,23.8,3.9,18.4,10.0],[21.4,6.1,16.8,23.7,3.8,18.2,10.0],[21.2,6.2,16.8,24.5,3.9,17.6,9.9],[21.1,6.1,17.1,24.4,3.9,17.7,9.8],[21.5,5.9,17.2,24.1,3.9,17.6,9.7],[21.8,5.9,17.1,23.7,4.0,18.0,9.6],[20.9,5.7,16.2,23.3,3.7,21.0,9.3],[20.8,5.7,16.1,22.9,3.6,21.5,9.3],[21.2,5.5,15.9,22.3,3.5,22.4,9.2],[21.3,5.7,15.4,22.4,3.6,22.4,9.2],[21.6,5.6,15.4,22.2,3.6,22.3,9.3],[21.4,5.4,15.5,22.4,3.5,22.5,9.3],[21.5,5.4,15.2,22.7,3.5,22.4,9.3],[21.4,5.4,14.7,23.0,3.5,22.8,9.3],[21.0,5.2,14.9,23.0,3.4,23.4,9.2],[21.3,5.1,14.7,23.5,3.4,22.3,9.6],[21.0,5.2,14.7,23.2,3.4,23.0,9.4]],\"hovertemplate\":\"variable=Fruit<br>Year=%{x}<br>value=%{y}<br>Meat, eggs, and nuts_%=%{customdata[0]}<br>Vegetables_%=%{customdata[1]}<br>Sugar and sweeteners (Added)_%=%{customdata[2]}<br>Flour and cereal products_%=%{customdata[3]}<br>Fruit_%=%{customdata[4]}<br>Added fats and oils and dairy fats_%=%{customdata[5]}<br>Dairy_%=%{customdata[6]}<extra></extra>\",\"legendgroup\":\"Fruit\",\"marker\":{\"color\":\"rgb(51, 34, 136)\",\"pattern\":{\"shape\":\"\"}},\"name\":\"Fruit\",\"offsetgroup\":\"Fruit\",\"orientation\":\"v\",\"showlegend\":true,\"textposition\":\"auto\",\"x\":[1970,1971,1972,1973,1974,1975,1976,1977,1978,1979,1980,1981,1982,1983,1984,1985,1986,1987,1988,1989,1990,1991,1992,1993,1994,1995,1996,1997,1998,1999,2000,2001,2002,2003,2004,2005,2006,2007,2008,2009,2010],\"xaxis\":\"x\",\"y\":[71,73,69,72,73,76,77,78,78,77,83,79,81,88,85,86,89,91,89,91,88,87,91,93,94,91,93,94,95,98,94,92,91,92,92,90,89,89,86,84,86],\"yaxis\":\"y\",\"type\":\"bar\"},{\"alignmentgroup\":\"True\",\"customdata\":[[24.8,6.6,16.2,20.0,3.5,16.8,12.2],[25.1,6.5,16.3,19.7,3.6,16.7,12.2],[25.0,6.5,16.5,19.4,3.4,17.2,12.1],[23.8,6.5,16.6,20.1,3.5,17.4,12.1],[24.8,6.3,16.2,20.0,3.6,17.2,11.9],[24.4,6.5,15.7,20.5,3.8,17.3,11.9],[24.6,6.3,16.0,20.5,3.7,17.5,11.5],[24.7,6.4,16.5,20.1,3.8,17.0,11.6],[24.3,6.1,16.3,20.5,3.8,17.5,11.5],[24.0,6.2,16.4,20.6,3.7,17.8,11.3],[23.8,6.1,16.1,21.0,4.0,17.9,11.2],[24.1,6.1,16.1,21.0,3.8,17.8,11.1],[23.8,6.2,15.8,21.0,3.9,17.9,11.3],[23.8,6.2,15.7,20.7,4.2,18.3,11.2],[23.6,6.1,15.8,20.8,3.9,18.6,11.2],[23.2,6.0,15.7,21.3,3.8,19.0,11.0],[22.8,6.0,15.4,21.7,3.9,19.1,10.9],[22.4,5.9,15.7,22.5,4.0,18.7,10.9],[22.4,5.8,15.7,22.8,3.9,18.8,10.6],[22.4,6.0,15.8,23.0,4.0,18.2,10.6],[21.9,5.9,16.1,23.7,3.8,18.0,10.5],[21.8,6.2,16.0,23.5,3.8,18.2,10.4],[21.8,6.1,16.1,23.5,3.9,18.4,10.3],[21.3,6.1,16.1,23.7,3.9,18.9,9.9],[21.4,6.1,16.4,23.8,3.9,18.4,10.0],[21.4,6.1,16.8,23.7,3.8,18.2,10.0],[21.2,6.2,16.8,24.5,3.9,17.6,9.9],[21.1,6.1,17.1,24.4,3.9,17.7,9.8],[21.5,5.9,17.2,24.1,3.9,17.6,9.7],[21.8,5.9,17.1,23.7,4.0,18.0,9.6],[20.9,5.7,16.2,23.3,3.7,21.0,9.3],[20.8,5.7,16.1,22.9,3.6,21.5,9.3],[21.2,5.5,15.9,22.3,3.5,22.4,9.2],[21.3,5.7,15.4,22.4,3.6,22.4,9.2],[21.6,5.6,15.4,22.2,3.6,22.3,9.3],[21.4,5.4,15.5,22.4,3.5,22.5,9.3],[21.5,5.4,15.2,22.7,3.5,22.4,9.3],[21.4,5.4,14.7,23.0,3.5,22.8,9.3],[21.0,5.2,14.9,23.0,3.4,23.4,9.2],[21.3,5.1,14.7,23.5,3.4,22.3,9.6],[21.0,5.2,14.7,23.2,3.4,23.0,9.4]],\"hovertemplate\":\"variable=Added fats and oils and dairy fats<br>Year=%{x}<br>value=%{y}<br>Meat, eggs, and nuts_%=%{customdata[0]}<br>Vegetables_%=%{customdata[1]}<br>Sugar and sweeteners (Added)_%=%{customdata[2]}<br>Flour and cereal products_%=%{customdata[3]}<br>Fruit_%=%{customdata[4]}<br>Added fats and oils and dairy fats_%=%{customdata[5]}<br>Dairy_%=%{customdata[6]}<extra></extra>\",\"legendgroup\":\"Added fats and oils and dairy fats\",\"marker\":{\"color\":\"rgb(170, 68, 153)\",\"pattern\":{\"shape\":\"\"}},\"name\":\"Added fats and oils and dairy fats\",\"offsetgroup\":\"Added fats and oils and dairy fats\",\"orientation\":\"v\",\"showlegend\":true,\"textposition\":\"auto\",\"x\":[1970,1971,1972,1973,1974,1975,1976,1977,1978,1979,1980,1981,1982,1983,1984,1985,1986,1987,1988,1989,1990,1991,1992,1993,1994,1995,1996,1997,1998,1999,2000,2001,2002,2003,2004,2005,2006,2007,2008,2009,2010],\"xaxis\":\"x\",\"y\":[346,342,353,357,349,351,367,353,364,372,372,370,372,387,402,424,431,427,433,413,411,419,433,453,443,434,424,427,425,444,537,548,577,575,573,573,571,584,594,551,575],\"yaxis\":\"y\",\"type\":\"bar\"},{\"alignmentgroup\":\"True\",\"customdata\":[[24.8,6.6,16.2,20.0,3.5,16.8,12.2],[25.1,6.5,16.3,19.7,3.6,16.7,12.2],[25.0,6.5,16.5,19.4,3.4,17.2,12.1],[23.8,6.5,16.6,20.1,3.5,17.4,12.1],[24.8,6.3,16.2,20.0,3.6,17.2,11.9],[24.4,6.5,15.7,20.5,3.8,17.3,11.9],[24.6,6.3,16.0,20.5,3.7,17.5,11.5],[24.7,6.4,16.5,20.1,3.8,17.0,11.6],[24.3,6.1,16.3,20.5,3.8,17.5,11.5],[24.0,6.2,16.4,20.6,3.7,17.8,11.3],[23.8,6.1,16.1,21.0,4.0,17.9,11.2],[24.1,6.1,16.1,21.0,3.8,17.8,11.1],[23.8,6.2,15.8,21.0,3.9,17.9,11.3],[23.8,6.2,15.7,20.7,4.2,18.3,11.2],[23.6,6.1,15.8,20.8,3.9,18.6,11.2],[23.2,6.0,15.7,21.3,3.8,19.0,11.0],[22.8,6.0,15.4,21.7,3.9,19.1,10.9],[22.4,5.9,15.7,22.5,4.0,18.7,10.9],[22.4,5.8,15.7,22.8,3.9,18.8,10.6],[22.4,6.0,15.8,23.0,4.0,18.2,10.6],[21.9,5.9,16.1,23.7,3.8,18.0,10.5],[21.8,6.2,16.0,23.5,3.8,18.2,10.4],[21.8,6.1,16.1,23.5,3.9,18.4,10.3],[21.3,6.1,16.1,23.7,3.9,18.9,9.9],[21.4,6.1,16.4,23.8,3.9,18.4,10.0],[21.4,6.1,16.8,23.7,3.8,18.2,10.0],[21.2,6.2,16.8,24.5,3.9,17.6,9.9],[21.1,6.1,17.1,24.4,3.9,17.7,9.8],[21.5,5.9,17.2,24.1,3.9,17.6,9.7],[21.8,5.9,17.1,23.7,4.0,18.0,9.6],[20.9,5.7,16.2,23.3,3.7,21.0,9.3],[20.8,5.7,16.1,22.9,3.6,21.5,9.3],[21.2,5.5,15.9,22.3,3.5,22.4,9.2],[21.3,5.7,15.4,22.4,3.6,22.4,9.2],[21.6,5.6,15.4,22.2,3.6,22.3,9.3],[21.4,5.4,15.5,22.4,3.5,22.5,9.3],[21.5,5.4,15.2,22.7,3.5,22.4,9.3],[21.4,5.4,14.7,23.0,3.5,22.8,9.3],[21.0,5.2,14.9,23.0,3.4,23.4,9.2],[21.3,5.1,14.7,23.5,3.4,22.3,9.6],[21.0,5.2,14.7,23.2,3.4,23.0,9.4]],\"hovertemplate\":\"variable=Dairy<br>Year=%{x}<br>value=%{y}<br>Meat, eggs, and nuts_%=%{customdata[0]}<br>Vegetables_%=%{customdata[1]}<br>Sugar and sweeteners (Added)_%=%{customdata[2]}<br>Flour and cereal products_%=%{customdata[3]}<br>Fruit_%=%{customdata[4]}<br>Added fats and oils and dairy fats_%=%{customdata[5]}<br>Dairy_%=%{customdata[6]}<extra></extra>\",\"legendgroup\":\"Dairy\",\"marker\":{\"color\":\"rgb(68, 170, 153)\",\"pattern\":{\"shape\":\"\"}},\"name\":\"Dairy\",\"offsetgroup\":\"Dairy\",\"orientation\":\"v\",\"showlegend\":true,\"textposition\":\"auto\",\"x\":[1970,1971,1972,1973,1974,1975,1976,1977,1978,1979,1980,1981,1982,1983,1984,1985,1986,1987,1988,1989,1990,1991,1992,1993,1994,1995,1996,1997,1998,1999,2000,2001,2002,2003,2004,2005,2006,2007,2008,2009,2010],\"xaxis\":\"x\",\"y\":[250,251,249,247,241,240,241,240,239,237,233,231,234,238,242,246,247,249,245,241,241,241,241,237,240,239,237,236,235,238,237,236,237,237,238,238,237,237,234,237,235],\"yaxis\":\"y\",\"type\":\"bar\"}],                        {\"template\":{\"data\":{\"histogram2dcontour\":[{\"type\":\"histogram2dcontour\",\"colorbar\":{\"outlinewidth\":0,\"ticks\":\"\"},\"colorscale\":[[0.0,\"#0d0887\"],[0.1111111111111111,\"#46039f\"],[0.2222222222222222,\"#7201a8\"],[0.3333333333333333,\"#9c179e\"],[0.4444444444444444,\"#bd3786\"],[0.5555555555555556,\"#d8576b\"],[0.6666666666666666,\"#ed7953\"],[0.7777777777777778,\"#fb9f3a\"],[0.8888888888888888,\"#fdca26\"],[1.0,\"#f0f921\"]]}],\"choropleth\":[{\"type\":\"choropleth\",\"colorbar\":{\"outlinewidth\":0,\"ticks\":\"\"}}],\"histogram2d\":[{\"type\":\"histogram2d\",\"colorbar\":{\"outlinewidth\":0,\"ticks\":\"\"},\"colorscale\":[[0.0,\"#0d0887\"],[0.1111111111111111,\"#46039f\"],[0.2222222222222222,\"#7201a8\"],[0.3333333333333333,\"#9c179e\"],[0.4444444444444444,\"#bd3786\"],[0.5555555555555556,\"#d8576b\"],[0.6666666666666666,\"#ed7953\"],[0.7777777777777778,\"#fb9f3a\"],[0.8888888888888888,\"#fdca26\"],[1.0,\"#f0f921\"]]}],\"heatmap\":[{\"type\":\"heatmap\",\"colorbar\":{\"outlinewidth\":0,\"ticks\":\"\"},\"colorscale\":[[0.0,\"#0d0887\"],[0.1111111111111111,\"#46039f\"],[0.2222222222222222,\"#7201a8\"],[0.3333333333333333,\"#9c179e\"],[0.4444444444444444,\"#bd3786\"],[0.5555555555555556,\"#d8576b\"],[0.6666666666666666,\"#ed7953\"],[0.7777777777777778,\"#fb9f3a\"],[0.8888888888888888,\"#fdca26\"],[1.0,\"#f0f921\"]]}],\"heatmapgl\":[{\"type\":\"heatmapgl\",\"colorbar\":{\"outlinewidth\":0,\"ticks\":\"\"},\"colorscale\":[[0.0,\"#0d0887\"],[0.1111111111111111,\"#46039f\"],[0.2222222222222222,\"#7201a8\"],[0.3333333333333333,\"#9c179e\"],[0.4444444444444444,\"#bd3786\"],[0.5555555555555556,\"#d8576b\"],[0.6666666666666666,\"#ed7953\"],[0.7777777777777778,\"#fb9f3a\"],[0.8888888888888888,\"#fdca26\"],[1.0,\"#f0f921\"]]}],\"contourcarpet\":[{\"type\":\"contourcarpet\",\"colorbar\":{\"outlinewidth\":0,\"ticks\":\"\"}}],\"contour\":[{\"type\":\"contour\",\"colorbar\":{\"outlinewidth\":0,\"ticks\":\"\"},\"colorscale\":[[0.0,\"#0d0887\"],[0.1111111111111111,\"#46039f\"],[0.2222222222222222,\"#7201a8\"],[0.3333333333333333,\"#9c179e\"],[0.4444444444444444,\"#bd3786\"],[0.5555555555555556,\"#d8576b\"],[0.6666666666666666,\"#ed7953\"],[0.7777777777777778,\"#fb9f3a\"],[0.8888888888888888,\"#fdca26\"],[1.0,\"#f0f921\"]]}],\"surface\":[{\"type\":\"surface\",\"colorbar\":{\"outlinewidth\":0,\"ticks\":\"\"},\"colorscale\":[[0.0,\"#0d0887\"],[0.1111111111111111,\"#46039f\"],[0.2222222222222222,\"#7201a8\"],[0.3333333333333333,\"#9c179e\"],[0.4444444444444444,\"#bd3786\"],[0.5555555555555556,\"#d8576b\"],[0.6666666666666666,\"#ed7953\"],[0.7777777777777778,\"#fb9f3a\"],[0.8888888888888888,\"#fdca26\"],[1.0,\"#f0f921\"]]}],\"mesh3d\":[{\"type\":\"mesh3d\",\"colorbar\":{\"outlinewidth\":0,\"ticks\":\"\"}}],\"scatter\":[{\"fillpattern\":{\"fillmode\":\"overlay\",\"size\":10,\"solidity\":0.2},\"type\":\"scatter\"}],\"parcoords\":[{\"type\":\"parcoords\",\"line\":{\"colorbar\":{\"outlinewidth\":0,\"ticks\":\"\"}}}],\"scatterpolargl\":[{\"type\":\"scatterpolargl\",\"marker\":{\"colorbar\":{\"outlinewidth\":0,\"ticks\":\"\"}}}],\"bar\":[{\"error_x\":{\"color\":\"#2a3f5f\"},\"error_y\":{\"color\":\"#2a3f5f\"},\"marker\":{\"line\":{\"color\":\"#E5ECF6\",\"width\":0.5},\"pattern\":{\"fillmode\":\"overlay\",\"size\":10,\"solidity\":0.2}},\"type\":\"bar\"}],\"scattergeo\":[{\"type\":\"scattergeo\",\"marker\":{\"colorbar\":{\"outlinewidth\":0,\"ticks\":\"\"}}}],\"scatterpolar\":[{\"type\":\"scatterpolar\",\"marker\":{\"colorbar\":{\"outlinewidth\":0,\"ticks\":\"\"}}}],\"histogram\":[{\"marker\":{\"pattern\":{\"fillmode\":\"overlay\",\"size\":10,\"solidity\":0.2}},\"type\":\"histogram\"}],\"scattergl\":[{\"type\":\"scattergl\",\"marker\":{\"colorbar\":{\"outlinewidth\":0,\"ticks\":\"\"}}}],\"scatter3d\":[{\"type\":\"scatter3d\",\"line\":{\"colorbar\":{\"outlinewidth\":0,\"ticks\":\"\"}},\"marker\":{\"colorbar\":{\"outlinewidth\":0,\"ticks\":\"\"}}}],\"scattermapbox\":[{\"type\":\"scattermapbox\",\"marker\":{\"colorbar\":{\"outlinewidth\":0,\"ticks\":\"\"}}}],\"scatterternary\":[{\"type\":\"scatterternary\",\"marker\":{\"colorbar\":{\"outlinewidth\":0,\"ticks\":\"\"}}}],\"scattercarpet\":[{\"type\":\"scattercarpet\",\"marker\":{\"colorbar\":{\"outlinewidth\":0,\"ticks\":\"\"}}}],\"carpet\":[{\"aaxis\":{\"endlinecolor\":\"#2a3f5f\",\"gridcolor\":\"white\",\"linecolor\":\"white\",\"minorgridcolor\":\"white\",\"startlinecolor\":\"#2a3f5f\"},\"baxis\":{\"endlinecolor\":\"#2a3f5f\",\"gridcolor\":\"white\",\"linecolor\":\"white\",\"minorgridcolor\":\"white\",\"startlinecolor\":\"#2a3f5f\"},\"type\":\"carpet\"}],\"table\":[{\"cells\":{\"fill\":{\"color\":\"#EBF0F8\"},\"line\":{\"color\":\"white\"}},\"header\":{\"fill\":{\"color\":\"#C8D4E3\"},\"line\":{\"color\":\"white\"}},\"type\":\"table\"}],\"barpolar\":[{\"marker\":{\"line\":{\"color\":\"#E5ECF6\",\"width\":0.5},\"pattern\":{\"fillmode\":\"overlay\",\"size\":10,\"solidity\":0.2}},\"type\":\"barpolar\"}],\"pie\":[{\"automargin\":true,\"type\":\"pie\"}]},\"layout\":{\"autotypenumbers\":\"strict\",\"colorway\":[\"#636efa\",\"#EF553B\",\"#00cc96\",\"#ab63fa\",\"#FFA15A\",\"#19d3f3\",\"#FF6692\",\"#B6E880\",\"#FF97FF\",\"#FECB52\"],\"font\":{\"color\":\"#2a3f5f\"},\"hovermode\":\"closest\",\"hoverlabel\":{\"align\":\"left\"},\"paper_bgcolor\":\"white\",\"plot_bgcolor\":\"#E5ECF6\",\"polar\":{\"bgcolor\":\"#E5ECF6\",\"angularaxis\":{\"gridcolor\":\"white\",\"linecolor\":\"white\",\"ticks\":\"\"},\"radialaxis\":{\"gridcolor\":\"white\",\"linecolor\":\"white\",\"ticks\":\"\"}},\"ternary\":{\"bgcolor\":\"#E5ECF6\",\"aaxis\":{\"gridcolor\":\"white\",\"linecolor\":\"white\",\"ticks\":\"\"},\"baxis\":{\"gridcolor\":\"white\",\"linecolor\":\"white\",\"ticks\":\"\"},\"caxis\":{\"gridcolor\":\"white\",\"linecolor\":\"white\",\"ticks\":\"\"}},\"coloraxis\":{\"colorbar\":{\"outlinewidth\":0,\"ticks\":\"\"}},\"colorscale\":{\"sequential\":[[0.0,\"#0d0887\"],[0.1111111111111111,\"#46039f\"],[0.2222222222222222,\"#7201a8\"],[0.3333333333333333,\"#9c179e\"],[0.4444444444444444,\"#bd3786\"],[0.5555555555555556,\"#d8576b\"],[0.6666666666666666,\"#ed7953\"],[0.7777777777777778,\"#fb9f3a\"],[0.8888888888888888,\"#fdca26\"],[1.0,\"#f0f921\"]],\"sequentialminus\":[[0.0,\"#0d0887\"],[0.1111111111111111,\"#46039f\"],[0.2222222222222222,\"#7201a8\"],[0.3333333333333333,\"#9c179e\"],[0.4444444444444444,\"#bd3786\"],[0.5555555555555556,\"#d8576b\"],[0.6666666666666666,\"#ed7953\"],[0.7777777777777778,\"#fb9f3a\"],[0.8888888888888888,\"#fdca26\"],[1.0,\"#f0f921\"]],\"diverging\":[[0,\"#8e0152\"],[0.1,\"#c51b7d\"],[0.2,\"#de77ae\"],[0.3,\"#f1b6da\"],[0.4,\"#fde0ef\"],[0.5,\"#f7f7f7\"],[0.6,\"#e6f5d0\"],[0.7,\"#b8e186\"],[0.8,\"#7fbc41\"],[0.9,\"#4d9221\"],[1,\"#276419\"]]},\"xaxis\":{\"gridcolor\":\"white\",\"linecolor\":\"white\",\"ticks\":\"\",\"title\":{\"standoff\":15},\"zerolinecolor\":\"white\",\"automargin\":true,\"zerolinewidth\":2},\"yaxis\":{\"gridcolor\":\"white\",\"linecolor\":\"white\",\"ticks\":\"\",\"title\":{\"standoff\":15},\"zerolinecolor\":\"white\",\"automargin\":true,\"zerolinewidth\":2},\"scene\":{\"xaxis\":{\"backgroundcolor\":\"#E5ECF6\",\"gridcolor\":\"white\",\"linecolor\":\"white\",\"showbackground\":true,\"ticks\":\"\",\"zerolinecolor\":\"white\",\"gridwidth\":2},\"yaxis\":{\"backgroundcolor\":\"#E5ECF6\",\"gridcolor\":\"white\",\"linecolor\":\"white\",\"showbackground\":true,\"ticks\":\"\",\"zerolinecolor\":\"white\",\"gridwidth\":2},\"zaxis\":{\"backgroundcolor\":\"#E5ECF6\",\"gridcolor\":\"white\",\"linecolor\":\"white\",\"showbackground\":true,\"ticks\":\"\",\"zerolinecolor\":\"white\",\"gridwidth\":2}},\"shapedefaults\":{\"line\":{\"color\":\"#2a3f5f\"}},\"annotationdefaults\":{\"arrowcolor\":\"#2a3f5f\",\"arrowhead\":0,\"arrowwidth\":1},\"geo\":{\"bgcolor\":\"white\",\"landcolor\":\"#E5ECF6\",\"subunitcolor\":\"white\",\"showland\":true,\"showlakes\":true,\"lakecolor\":\"white\"},\"title\":{\"x\":0.05},\"mapbox\":{\"style\":\"light\"}}},\"xaxis\":{\"anchor\":\"y\",\"domain\":[0.0,1.0],\"title\":{\"text\":\"Year\"},\"tickangle\":-90},\"yaxis\":{\"anchor\":\"x\",\"domain\":[0.0,1.0],\"title\":{\"text\":\"Calorie\"}},\"legend\":{\"title\":{\"text\":\"variable\"},\"tracegroupgap\":0,\"font\":{\"size\":11},\"yanchor\":\"bottom\",\"y\":0.2,\"xanchor\":\"right\",\"x\":-0.1},\"title\":{\"text\":\"<b>AMERICANS AVERAGE DAILY PER CAPITA CALORIE CONSUMPTION BREAKDOWN BY FOOD TYPE<b>\"},\"barmode\":\"relative\",\"bargap\":0.05,\"shapes\":[{\"line\":{\"color\":\"blue\",\"dash\":\"dot\",\"width\":1.2},\"type\":\"line\",\"x0\":1970,\"x1\":2010,\"y0\":2000,\"y1\":2000},{\"line\":{\"color\":\"blue\",\"dash\":\"dot\",\"width\":1.2},\"type\":\"line\",\"x0\":1970,\"x1\":2010,\"y0\":2500,\"y1\":2500}],\"annotations\":[{\"arrowhead\":2,\"showarrow\":true,\"text\":\"Recommended Daily Intake (women)\",\"x\":1977,\"y\":2000},{\"arrowhead\":2,\"showarrow\":true,\"text\":\"Recommended Daily Intake (men)\",\"x\":1990,\"y\":2500}]},                        {\"responsive\": true}                    ).then(function(){\n",
       "                            \n",
       "var gd = document.getElementById('7a49fdfc-87db-4718-b6b6-e5035f861a8b');\n",
       "var x = new MutationObserver(function (mutations, observer) {{\n",
       "        var display = window.getComputedStyle(gd).display;\n",
       "        if (!display || display === 'none') {{\n",
       "            console.log([gd, 'removed!']);\n",
       "            Plotly.purge(gd);\n",
       "            observer.disconnect();\n",
       "        }}\n",
       "}});\n",
       "\n",
       "// Listen for the removal of the full notebook cells\n",
       "var notebookContainer = gd.closest('#notebook-container');\n",
       "if (notebookContainer) {{\n",
       "    x.observe(notebookContainer, {childList: true});\n",
       "}}\n",
       "\n",
       "// Listen for the clearing of the current output cell\n",
       "var outputEl = gd.closest('.output');\n",
       "if (outputEl) {{\n",
       "    x.observe(outputEl, {childList: true});\n",
       "}}\n",
       "\n",
       "                        })                };                });            </script>        </div>"
      ]
     },
     "metadata": {},
     "output_type": "display_data"
    }
   ],
   "source": [
    "calories_chart()"
   ]
  },
  {
   "cell_type": "markdown",
   "id": "329bbfbf",
   "metadata": {},
   "source": [
    "**COMMENT**:\n",
    "- Overall calories increases\n",
    "- Nearly half of the calories come from just two food groups - which are gaining ones: flours and grains (581 calories, or 23.4%) and fats and oils (575, or 23.2%), up from a combined 37.3% in 1970. \n",
    "- Meats, dairy and sweeteners provide smaller shares of our daily caloric intake than they did four decades ago\n",
    "- So do fruits and vegetables (7.9% in 2010 versus 9.2% in 1970)"
   ]
  },
  {
   "cell_type": "markdown",
   "id": "7648c6a3",
   "metadata": {},
   "source": [
    "***"
   ]
  },
  {
   "cell_type": "code",
   "execution_count": 57,
   "id": "67710b60",
   "metadata": {},
   "outputs": [
    {
     "data": {
      "image/png": "[encoded data removed]",
      "text/plain": [
       "<Figure size 600x600 with 1 Axes>"
      ]
     },
     "metadata": {},
     "output_type": "display_data"
    }
   ],
   "source": [
    "loss_chart(losscategory)"
   ]
  },
  {
   "cell_type": "markdown",
   "id": "e7c7e07d",
   "metadata": {},
   "source": [
    "**COMMENTS:** Food Availability is associated with consumption  \n",
    "- Across the world, we are currently wasting 2.5 billion tons of food each and every year. \n",
    "- The data becomes even more interesting when looking in detail at what food category is actually wasted the most\n",
    "- The  economic result of food loss and waste is larget and even larger for the vulnerable populations as food becomes less available or prices are affected leading to food insecurity. \n",
    "- There is a strong business and food security case for addressing the food loss/waste challenge.\n",
    "- Vegetable loss has increased by 3.5% in the past 40 years,  over 50% of vegetables are lost or wasted in transit, at the supermarket, at home, etc, \n",
    "- 50% of fruits are lost, this has became more efficient - may link to increase in consumption? \n",
    "- Only around a third of grains and sugars are lost and this has become more efficient over time \n",
    "- Meat and dairy loss has slightly increased but these categories are more efficient. Alot of meat is lost but the problem hasnt been as worse as fruit or veggies"
   ]
  },
  {
   "cell_type": "code",
   "execution_count": 58,
   "id": "a8a90280",
   "metadata": {},
   "outputs": [
    {
     "data": {
      "image/png": "[encoded data removed]",
      "text/plain": [
       "<Figure size 600x600 with 1 Axes>"
      ]
     },
     "metadata": {},
     "output_type": "display_data"
    }
   ],
   "source": [
    "loss_chart(fruitvegloss)"
   ]
  },
  {
   "cell_type": "markdown",
   "id": "2c279b85",
   "metadata": {},
   "source": [
    "**COMMENTS:** Why are so many fruits/ vegetables lost? \n",
    "- as you can see there is a major inefficiency with fresh vegetables, the drive the loss of the category, 60% are wasted as of 2010. Fresh fruit loss has become more efficient, linking to increased calorie intake. \n",
    "- recommendation -> shift to frozen fruits and vegetables as less is wasted and this process has become more efficient in the past 40 years"
   ]
  },
  {
   "cell_type": "markdown",
   "id": "3d2ffeb1",
   "metadata": {},
   "source": [
    "***"
   ]
  },
  {
   "cell_type": "code",
   "execution_count": 59,
   "id": "9b90d4f0",
   "metadata": {},
   "outputs": [
    {
     "data": {
      "image/png": "[encoded data removed]",
      "text/plain": [
       "<Figure size 700x500 with 1 Axes>"
      ]
     },
     "metadata": {},
     "output_type": "display_data"
    }
   ],
   "source": [
    "correl_chart()"
   ]
  },
  {
   "cell_type": "markdown",
   "id": "5ccac0b0",
   "metadata": {},
   "source": [
    "**COMMENTS:** Correlations between Heart Desease and Diet\n",
    "- Does diet really affect your health?\n",
    "- Food availability and food consumption is positively related.\n",
    "- Will the cities where fast food is more available also have higher heart disease rate?"
   ]
  },
  {
   "cell_type": "markdown",
   "id": "f00ec783",
   "metadata": {},
   "source": [
    "***"
   ]
  },
  {
   "cell_type": "code",
   "execution_count": 60,
   "id": "8a30353e",
   "metadata": {},
   "outputs": [
    {
     "data": {
      "image/png": "[encoded data removed]",
      "text/plain": [
       "<Figure size 640x480 with 1 Axes>"
      ]
     },
     "metadata": {},
     "output_type": "display_data"
    }
   ],
   "source": [
    "obesity_chart()"
   ]
  },
  {
   "cell_type": "markdown",
   "id": "908a56cb",
   "metadata": {},
   "source": [
    "**COMMENTS:** \n",
    "- A person is defined as overweight if they have a body-mass index (BMI) equal to or greater than 25. BMI is a person's weight in kilograms divided by his height in metres squared\n",
    "- The prevalence of obesity among American adults has significantly increased over the last 50 years.\n",
    "- Reasons why there is an upward trend :\n",
    "    - Consumption of foods that are high in calories, fats and sugars.\n",
    "    - Lack of Physical activities."
   ]
  },
  {
   "cell_type": "code",
   "execution_count": 61,
   "id": "82399609",
   "metadata": {},
   "outputs": [
    {
     "data": {
      "image/png": "[encoded data removed]",
      "text/plain": [
       "<Figure size 1200x600 with 1 Axes>"
      ]
     },
     "metadata": {},
     "output_type": "display_data"
    }
   ],
   "source": [
    "obesity_gdp_chart()"
   ]
  },
  {
   "cell_type": "markdown",
   "id": "fc122d6b",
   "metadata": {},
   "source": [
    "**COMMENT**:\n",
    "- This Scatterplot shows the obesity rate in 20 leading countries with a high GDP.\n",
    "- Obesity rates vary significantly by country as a result of different lifestyles and diets. There is no direct correlation between the obesity rate of a country and its economic status. However, we can conclude that the US has a significantly high percentage of Obese adults when compared to the other countries."
   ]
  },
  {
   "cell_type": "markdown",
   "id": "1367b48c",
   "metadata": {},
   "source": [
    "***"
   ]
  },
  {
   "cell_type": "code",
   "execution_count": 62,
   "id": "2358aa21",
   "metadata": {},
   "outputs": [
    {
     "data": {
      "image/png": "[encoded data removed]",
      "text/plain": [
       "<Figure size 640x480 with 1 Axes>"
      ]
     },
     "metadata": {},
     "output_type": "display_data"
    }
   ],
   "source": [
    "perfect_diet_chart()"
   ]
  },
  {
   "cell_type": "markdown",
   "id": "9e18872a",
   "metadata": {},
   "source": [
    "**COMMENTS**:\n",
    "* Vegetable and Fruit consumption seem to be headed in right the direction, but still far.\n",
    "* However, Dairy has been stagnant and Grains and Proteins have grown and are not necessarily closed to optiomal levels."
   ]
  },
  {
   "cell_type": "code",
   "execution_count": null,
   "id": "1cade98c",
   "metadata": {},
   "outputs": [],
   "source": []
  }
 ],
 "metadata": {
  "kernelspec": {
   "display_name": "Python 3 (ipykernel)",
   "language": "python",
   "name": "python3"
  },
  "language_info": {
   "codemirror_mode": {
    "name": "ipython",
    "version": 3
   },
   "file_extension": ".py",
   "mimetype": "text/x-python",
   "name": "python",
   "nbconvert_exporter": "python",
   "pygments_lexer": "ipython3",
   "version": "3.9.13"
  }
 },
 "nbformat": 4,
 "nbformat_minor": 5
}
